{
  "nbformat": 4,
  "nbformat_minor": 0,
  "metadata": {
    "colab": {
      "name": "LECTURE 2",
      "provenance": [],
      "collapsed_sections": [
        "DLq5-bNEBN7D",
        "ctMJXxf_peGm",
        "yQdKfdi8BbBA"
      ],
      "include_colab_link": true
    },
    "kernelspec": {
      "name": "python3",
      "display_name": "Python 3"
    },
    "language_info": {
      "name": "python"
    }
  },
  "cells": [
    {
      "cell_type": "markdown",
      "metadata": {
        "id": "view-in-github",
        "colab_type": "text"
      },
      "source": [
        "<a href=\"https://colab.research.google.com/github/mozzaquatro/DS/blob/main/LECTURE_2.ipynb\" target=\"_parent\"><img src=\"https://colab.research.google.com/assets/colab-badge.svg\" alt=\"Open In Colab\"/></a>"
      ]
    },
    {
      "cell_type": "markdown",
      "metadata": {
        "id": "4FdYhTihpOSh"
      },
      "source": [
        "#Python Language Basics"
      ]
    },
    {
      "cell_type": "markdown",
      "metadata": {
        "id": "QQSl-weJAfdX"
      },
      "source": [
        "- Variables\n"
      ]
    },
    {
      "cell_type": "code",
      "metadata": {
        "id": "A07MyHqmkmJ_"
      },
      "source": [
        "age = 38.8"
      ],
      "execution_count": null,
      "outputs": []
    },
    {
      "cell_type": "code",
      "metadata": {
        "id": "aO5CLfERkthp"
      },
      "source": [
        "name = \"Niccolò\""
      ],
      "execution_count": null,
      "outputs": []
    },
    {
      "cell_type": "code",
      "metadata": {
        "colab": {
          "base_uri": "https://localhost:8080/"
        },
        "id": "9W8QPIlVkv42",
        "outputId": "0e97d29a-85f1-4eca-ec56-c69894a3e558"
      },
      "source": [
        "type(name)"
      ],
      "execution_count": null,
      "outputs": [
        {
          "output_type": "execute_result",
          "data": {
            "text/plain": [
              "str"
            ]
          },
          "metadata": {},
          "execution_count": 3
        }
      ]
    },
    {
      "cell_type": "markdown",
      "metadata": {
        "id": "NSmrJMN-Aj7w"
      },
      "source": [
        "- Operators\n",
        "    - Mathematical\n",
        "    - Comparison \n",
        "    - Boolean (and, or, not)"
      ]
    },
    {
      "cell_type": "code",
      "metadata": {
        "id": "MGxM2BPWlBSM",
        "colab": {
          "base_uri": "https://localhost:8080/"
        },
        "outputId": "d87d5ee4-3048-4824-aaf2-f229c477ebf6"
      },
      "source": [
        "many_professors = name * 20\n",
        "print(many_professors)"
      ],
      "execution_count": null,
      "outputs": [
        {
          "output_type": "stream",
          "name": "stdout",
          "text": [
            "NiccolòNiccolòNiccolòNiccolòNiccolòNiccolòNiccolòNiccolòNiccolòNiccolòNiccolòNiccolòNiccolòNiccolòNiccolòNiccolòNiccolòNiccolòNiccolòNiccolò\n"
          ]
        }
      ]
    },
    {
      "cell_type": "code",
      "metadata": {
        "colab": {
          "base_uri": "https://localhost:8080/"
        },
        "id": "fokM2Tv1mSsq",
        "outputId": "69b7aa36-023d-42f7-c0ad-99d141c8c1ef"
      },
      "source": [
        "age "
      ],
      "execution_count": null,
      "outputs": [
        {
          "output_type": "execute_result",
          "data": {
            "text/plain": [
              "38.8"
            ]
          },
          "metadata": {},
          "execution_count": 5
        }
      ]
    },
    {
      "cell_type": "code",
      "metadata": {
        "colab": {
          "base_uri": "https://localhost:8080/"
        },
        "id": "_EZdhnL7lDsc",
        "outputId": "51f5efbb-8369-4a85-eb77-a4e943751c48"
      },
      "source": [
        "print('age == 30: ', age == 30)\n",
        "age != 38.5\n",
        "age <= 8\n",
        "age < 8\n",
        "age >= 9 \n",
        "age > 9"
      ],
      "execution_count": null,
      "outputs": [
        {
          "output_type": "stream",
          "name": "stdout",
          "text": [
            "age == 30:  False\n"
          ]
        },
        {
          "output_type": "execute_result",
          "data": {
            "text/plain": [
              "True"
            ]
          },
          "metadata": {},
          "execution_count": 6
        }
      ]
    },
    {
      "cell_type": "code",
      "metadata": {
        "colab": {
          "base_uri": "https://localhost:8080/"
        },
        "id": "sYzUgTGQm7KC",
        "outputId": "cbd1c8ed-7c02-43d5-ee23-98ea2615ed1e"
      },
      "source": [
        "print('is age more than 9?', age > 9)"
      ],
      "execution_count": null,
      "outputs": [
        {
          "output_type": "stream",
          "name": "stdout",
          "text": [
            "is age more than 9? True\n"
          ]
        }
      ]
    },
    {
      "cell_type": "code",
      "metadata": {
        "colab": {
          "base_uri": "https://localhost:8080/"
        },
        "id": "GRCsJkbdn6tx",
        "outputId": "55140e54-5bfa-4f85-8283-28b49d24ad2c"
      },
      "source": [
        "print('is age not more than 9 or less than 40?', not (age > 9 or age < 40))"
      ],
      "execution_count": null,
      "outputs": [
        {
          "output_type": "stream",
          "name": "stdout",
          "text": [
            "is age not more than 9 or less than 40? False\n"
          ]
        }
      ]
    },
    {
      "cell_type": "markdown",
      "metadata": {
        "id": "t8BXnQ2hAonn"
      },
      "source": [
        "- Types\n",
        "    - String, numerical\n",
        "    - Lists, arrays\n",
        "    - Dictionaries\n",
        "    - Tuples\n",
        "    - sets"
      ]
    },
    {
      "cell_type": "code",
      "metadata": {
        "id": "FmiT6Q6jpDlw"
      },
      "source": [
        "list_of_names = ['Nick', 'Linda', 'Luke']"
      ],
      "execution_count": null,
      "outputs": []
    },
    {
      "cell_type": "code",
      "metadata": {
        "colab": {
          "base_uri": "https://localhost:8080/",
          "height": 35
        },
        "id": "u8UIZ5g8pVqR",
        "outputId": "0f183275-0ce2-473f-d4a5-ea17ba36f005"
      },
      "source": [
        "list_of_names[0]"
      ],
      "execution_count": null,
      "outputs": [
        {
          "output_type": "execute_result",
          "data": {
            "application/vnd.google.colaboratory.intrinsic+json": {
              "type": "string"
            },
            "text/plain": [
              "'Nick'"
            ]
          },
          "metadata": {},
          "execution_count": 10
        }
      ]
    },
    {
      "cell_type": "code",
      "metadata": {
        "id": "b52riH3Ipggh"
      },
      "source": [
        "list_of_mixed_things = ['string', 90, 89.9, 'a']"
      ],
      "execution_count": null,
      "outputs": []
    },
    {
      "cell_type": "code",
      "metadata": {
        "colab": {
          "base_uri": "https://localhost:8080/",
          "height": 35
        },
        "id": "43ACABJ2pmu6",
        "outputId": "2109e430-d129-4caf-c8c8-32ca682b11bd"
      },
      "source": [
        "list_of_mixed_things[0] + list_of_mixed_things[-1]"
      ],
      "execution_count": null,
      "outputs": [
        {
          "output_type": "execute_result",
          "data": {
            "application/vnd.google.colaboratory.intrinsic+json": {
              "type": "string"
            },
            "text/plain": [
              "'stringa'"
            ]
          },
          "metadata": {},
          "execution_count": 12
        }
      ]
    },
    {
      "cell_type": "code",
      "metadata": {
        "id": "5SEAuLDkqiEl"
      },
      "source": [
        "list_of_boolean_values = [age > 3, age < 40]"
      ],
      "execution_count": null,
      "outputs": []
    },
    {
      "cell_type": "code",
      "metadata": {
        "colab": {
          "base_uri": "https://localhost:8080/"
        },
        "id": "jtmleZAxqm-n",
        "outputId": "ada10c60-3bc5-4278-e3a5-d4484065f202"
      },
      "source": [
        "list_of_boolean_values"
      ],
      "execution_count": null,
      "outputs": [
        {
          "output_type": "execute_result",
          "data": {
            "text/plain": [
              "[True, True]"
            ]
          },
          "metadata": {},
          "execution_count": 14
        }
      ]
    },
    {
      "cell_type": "code",
      "metadata": {
        "id": "Lq7z-M8Iq-wV"
      },
      "source": [
        "surname = 'Marastoni'"
      ],
      "execution_count": null,
      "outputs": []
    },
    {
      "cell_type": "code",
      "metadata": {
        "id": "CzA0cFrSrGXf"
      },
      "source": [
        "person_dict = {'name':name, 'surname':surname, 'age':age}"
      ],
      "execution_count": null,
      "outputs": []
    },
    {
      "cell_type": "code",
      "metadata": {
        "colab": {
          "base_uri": "https://localhost:8080/"
        },
        "id": "NWIrfsvYrfsB",
        "outputId": "a02fc683-cf77-460c-e7f0-4acbb8eea713"
      },
      "source": [
        "type(person_dict['age'])"
      ],
      "execution_count": null,
      "outputs": [
        {
          "output_type": "execute_result",
          "data": {
            "text/plain": [
              "float"
            ]
          },
          "metadata": {},
          "execution_count": 17
        }
      ]
    },
    {
      "cell_type": "code",
      "metadata": {
        "id": "KKiLkfSVr_oE"
      },
      "source": [
        "person_tuple = (name, surname, age)"
      ],
      "execution_count": null,
      "outputs": []
    },
    {
      "cell_type": "code",
      "metadata": {
        "colab": {
          "base_uri": "https://localhost:8080/"
        },
        "id": "VDQ41dgOsIIz",
        "outputId": "8da5ba7a-3257-4f55-ee22-adda5897362a"
      },
      "source": [
        "person_tuple"
      ],
      "execution_count": null,
      "outputs": [
        {
          "output_type": "execute_result",
          "data": {
            "text/plain": [
              "('Niccolò', 'Marastoni', 38.8)"
            ]
          },
          "metadata": {},
          "execution_count": 19
        }
      ]
    },
    {
      "cell_type": "code",
      "metadata": {
        "id": "0XGuxrwBsXeF"
      },
      "source": [
        "name = 'Elisa'\n",
        "surname = 'Quintarelli'\n",
        "children = 2"
      ],
      "execution_count": null,
      "outputs": []
    },
    {
      "cell_type": "code",
      "metadata": {
        "id": "nuC5zsHvs3HW"
      },
      "source": [
        "elisa_tuple = ('Elisa', 'Quintarelli', 2)"
      ],
      "execution_count": null,
      "outputs": []
    },
    {
      "cell_type": "code",
      "metadata": {
        "id": "kfoFWBNNsipQ"
      },
      "source": [
        "name, surname, children = elisa_tuple"
      ],
      "execution_count": null,
      "outputs": []
    },
    {
      "cell_type": "code",
      "metadata": {
        "colab": {
          "base_uri": "https://localhost:8080/"
        },
        "id": "skVg6Jkuw6VE",
        "outputId": "3106a9c1-388c-4d5b-995f-f55baf7124ee"
      },
      "source": [
        "list_of_names"
      ],
      "execution_count": null,
      "outputs": [
        {
          "output_type": "execute_result",
          "data": {
            "text/plain": [
              "['Nick', 'Linda', 'Luke']"
            ]
          },
          "metadata": {},
          "execution_count": 23
        }
      ]
    },
    {
      "cell_type": "code",
      "metadata": {
        "id": "MqxgGQYWw-iJ"
      },
      "source": [
        "list_of_duplicated_names = list_of_names * 2"
      ],
      "execution_count": null,
      "outputs": []
    },
    {
      "cell_type": "code",
      "metadata": {
        "colab": {
          "base_uri": "https://localhost:8080/"
        },
        "id": "zgFQcbrYxJ-h",
        "outputId": "30c954fe-d2ea-4dd0-da3f-b11a7f686d76"
      },
      "source": [
        "list_of_duplicated_names"
      ],
      "execution_count": null,
      "outputs": [
        {
          "output_type": "execute_result",
          "data": {
            "text/plain": [
              "['Nick', 'Linda', 'Luke', 'Nick', 'Linda', 'Luke']"
            ]
          },
          "metadata": {},
          "execution_count": 25
        }
      ]
    },
    {
      "cell_type": "code",
      "metadata": {
        "colab": {
          "base_uri": "https://localhost:8080/"
        },
        "id": "pI4oICPQxOBZ",
        "outputId": "2b754cb5-788a-49a8-9145-1d732d9ebc1b"
      },
      "source": [
        "set_of_names = set(list_of_duplicated_names)\n",
        "print(set_of_names)"
      ],
      "execution_count": null,
      "outputs": [
        {
          "output_type": "stream",
          "name": "stdout",
          "text": [
            "{'Linda', 'Luke', 'Nick'}\n"
          ]
        }
      ]
    },
    {
      "cell_type": "code",
      "metadata": {
        "id": "nf88CqHkxVoM"
      },
      "source": [
        "another_set_of_names = set(['Nick','Lisa','Robert'])"
      ],
      "execution_count": null,
      "outputs": []
    },
    {
      "cell_type": "code",
      "metadata": {
        "colab": {
          "base_uri": "https://localhost:8080/"
        },
        "id": "7lS9QPw9x6sG",
        "outputId": "82bba7d7-97a8-4156-fcac-ce332568388c"
      },
      "source": [
        "set_of_names.intersection(another_set_of_names)"
      ],
      "execution_count": null,
      "outputs": [
        {
          "output_type": "execute_result",
          "data": {
            "text/plain": [
              "{'Nick'}"
            ]
          },
          "metadata": {},
          "execution_count": 28
        }
      ]
    },
    {
      "cell_type": "code",
      "metadata": {
        "colab": {
          "base_uri": "https://localhost:8080/"
        },
        "id": "TMnW0sMWxkC3",
        "outputId": "d36784ac-cdd0-443e-cca1-eebf21225c30"
      },
      "source": [
        "set_of_names.symmetric_difference(another_set_of_names)"
      ],
      "execution_count": null,
      "outputs": [
        {
          "output_type": "execute_result",
          "data": {
            "text/plain": [
              "{'Linda', 'Lisa', 'Luke', 'Robert'}"
            ]
          },
          "metadata": {},
          "execution_count": 29
        }
      ]
    },
    {
      "cell_type": "markdown",
      "metadata": {
        "id": "_wnyi5jCAw71"
      },
      "source": [
        "- Reserved keywords\n",
        "    - For, if etc.\n",
        "    - Built-in functions (sum, type, len)\n",
        "    - is, in\n"
      ]
    },
    {
      "cell_type": "code",
      "metadata": {
        "id": "cdFFOv5WzMMY"
      },
      "source": [
        "list_of_ages = [38, 67, 89, 12]"
      ],
      "execution_count": null,
      "outputs": []
    },
    {
      "cell_type": "code",
      "metadata": {
        "colab": {
          "base_uri": "https://localhost:8080/"
        },
        "id": "lvReKEaxzifb",
        "outputId": "5fbe18ce-9489-447e-f483-5db24b8306b8"
      },
      "source": [
        "len(list_of_ages)"
      ],
      "execution_count": null,
      "outputs": [
        {
          "output_type": "execute_result",
          "data": {
            "text/plain": [
              "4"
            ]
          },
          "metadata": {},
          "execution_count": 31
        }
      ]
    },
    {
      "cell_type": "code",
      "metadata": {
        "colab": {
          "base_uri": "https://localhost:8080/"
        },
        "id": "ryAxHqk3zxrC",
        "outputId": "0abb9860-d336-4b57-821b-080374a2a9bf"
      },
      "source": [
        "15 in list_of_ages"
      ],
      "execution_count": null,
      "outputs": [
        {
          "output_type": "execute_result",
          "data": {
            "text/plain": [
              "False"
            ]
          },
          "metadata": {},
          "execution_count": 32
        }
      ]
    },
    {
      "cell_type": "markdown",
      "metadata": {
        "id": "UWtlu2wyA1YJ"
      },
      "source": [
        "- Control flow \n",
        "    - if/else/elif\n",
        "    - for/for each\n",
        "    - range\n",
        "    - While\n",
        "        - End condition\n"
      ]
    },
    {
      "cell_type": "code",
      "metadata": {
        "colab": {
          "base_uri": "https://localhost:8080/"
        },
        "id": "TziVOf6C0S6I",
        "outputId": "de10c844-e1aa-4e0f-ccc7-d2c0e616440a"
      },
      "source": [
        "list_of_names"
      ],
      "execution_count": null,
      "outputs": [
        {
          "output_type": "execute_result",
          "data": {
            "text/plain": [
              "['Nick', 'Linda', 'Luke']"
            ]
          },
          "metadata": {},
          "execution_count": 33
        }
      ]
    },
    {
      "cell_type": "code",
      "metadata": {
        "colab": {
          "base_uri": "https://localhost:8080/"
        },
        "id": "ocqurpUR04kd",
        "outputId": "5e47edb7-d4cb-40bb-f2a7-7557b08150ee"
      },
      "source": [
        "'Nick' not in list_of_names"
      ],
      "execution_count": null,
      "outputs": [
        {
          "output_type": "execute_result",
          "data": {
            "text/plain": [
              "False"
            ]
          },
          "metadata": {},
          "execution_count": 34
        }
      ]
    },
    {
      "cell_type": "code",
      "metadata": {
        "colab": {
          "base_uri": "https://localhost:8080/"
        },
        "id": "Juw9cyJF0dQA",
        "outputId": "e233d025-c4f6-4504-bc91-1017a241bf1f"
      },
      "source": [
        "nick_is_there = False\n",
        "if 'Nick' not in list_of_names:\n",
        "    nick_is_there = True\n",
        "    print(list_of_names)\n",
        "else:\n",
        "    list_of_names.append('Marta')\n",
        "    print(list_of_names)\n"
      ],
      "execution_count": null,
      "outputs": [
        {
          "output_type": "stream",
          "name": "stdout",
          "text": [
            "['Nick', 'Linda', 'Luke', 'Marta']\n"
          ]
        }
      ]
    },
    {
      "cell_type": "code",
      "metadata": {
        "id": "Z3m9xMCk0pYf"
      },
      "source": [
        "list_of_names = ['Mark'] + list_of_names"
      ],
      "execution_count": null,
      "outputs": []
    },
    {
      "cell_type": "code",
      "metadata": {
        "colab": {
          "base_uri": "https://localhost:8080/"
        },
        "id": "vuXof8Ou16pM",
        "outputId": "7fed602a-c2b4-413a-a948-8a25bccc1636"
      },
      "source": [
        "person_dict"
      ],
      "execution_count": null,
      "outputs": [
        {
          "output_type": "execute_result",
          "data": {
            "text/plain": [
              "{'age': 38.8, 'name': 'Niccolò', 'surname': 'Marastoni'}"
            ]
          },
          "metadata": {},
          "execution_count": 37
        }
      ]
    },
    {
      "cell_type": "code",
      "metadata": {
        "id": "FA6qPj4W2n3y"
      },
      "source": [
        "person_dict['age'] = 12"
      ],
      "execution_count": null,
      "outputs": []
    },
    {
      "cell_type": "code",
      "metadata": {
        "colab": {
          "base_uri": "https://localhost:8080/"
        },
        "id": "TfIlqv-A2CMm",
        "outputId": "fb429669-d50f-403f-a80f-375beba04aca"
      },
      "source": [
        "if person_dict['age'] < 40 and person_dict['age'] >= 30:\n",
        "    print('not too old')\n",
        "elif person_dict['age'] < 30 and person_dict['age'] > 20:\n",
        "    print('kinda young')\n",
        "else:\n",
        "    print('young')"
      ],
      "execution_count": null,
      "outputs": [
        {
          "output_type": "stream",
          "name": "stdout",
          "text": [
            "young\n"
          ]
        }
      ]
    },
    {
      "cell_type": "code",
      "metadata": {
        "colab": {
          "base_uri": "https://localhost:8080/"
        },
        "id": "BgqN-acR4Ktz",
        "outputId": "8ceccb65-9021-4e87-fb6c-91324c7368a6"
      },
      "source": [
        "print(list_of_names)"
      ],
      "execution_count": null,
      "outputs": [
        {
          "output_type": "stream",
          "name": "stdout",
          "text": [
            "['Mark', 'Nick', 'Linda', 'Luke', 'Marta']\n"
          ]
        }
      ]
    },
    {
      "cell_type": "code",
      "metadata": {
        "colab": {
          "base_uri": "https://localhost:8080/"
        },
        "id": "8NwLUvES3r0q",
        "outputId": "112d9631-b89c-40de-9b75-832e050583a7"
      },
      "source": [
        "for name in list_of_names:\n",
        "    print(name)"
      ],
      "execution_count": null,
      "outputs": [
        {
          "output_type": "stream",
          "name": "stdout",
          "text": [
            "Mark\n",
            "Nick\n",
            "Linda\n",
            "Luke\n",
            "Marta\n"
          ]
        }
      ]
    },
    {
      "cell_type": "code",
      "metadata": {
        "colab": {
          "base_uri": "https://localhost:8080/"
        },
        "id": "PtJJpCkV40Av",
        "outputId": "11a2fded-eadc-4d59-c7ff-409b23b06b77"
      },
      "source": [
        "for name in set_of_names:\n",
        "    print(name)"
      ],
      "execution_count": null,
      "outputs": [
        {
          "output_type": "stream",
          "name": "stdout",
          "text": [
            "Linda\n",
            "Luke\n",
            "Nick\n"
          ]
        }
      ]
    },
    {
      "cell_type": "code",
      "metadata": {
        "colab": {
          "base_uri": "https://localhost:8080/"
        },
        "id": "yeCKm9z64UVs",
        "outputId": "2f58ebd5-b81a-4691-cb63-b8190100431e"
      },
      "source": [
        "for age in list_of_ages:\n",
        "    if age > 40:\n",
        "        print(age)"
      ],
      "execution_count": null,
      "outputs": [
        {
          "output_type": "stream",
          "name": "stdout",
          "text": [
            "67\n",
            "89\n"
          ]
        }
      ]
    },
    {
      "cell_type": "code",
      "metadata": {
        "colab": {
          "base_uri": "https://localhost:8080/"
        },
        "id": "APkLVdWp4XKS",
        "outputId": "449fd6b4-af51-458d-d4b1-07432941a8b3"
      },
      "source": [
        "len(list_of_ages)"
      ],
      "execution_count": null,
      "outputs": [
        {
          "output_type": "execute_result",
          "data": {
            "text/plain": [
              "4"
            ]
          },
          "metadata": {},
          "execution_count": 44
        }
      ]
    },
    {
      "cell_type": "code",
      "metadata": {
        "colab": {
          "base_uri": "https://localhost:8080/"
        },
        "id": "qWsbZK0vQLXK",
        "outputId": "81a3a1f8-96e9-413b-99d6-1b2110afc4b7"
      },
      "source": [
        "range(8)"
      ],
      "execution_count": null,
      "outputs": [
        {
          "output_type": "execute_result",
          "data": {
            "text/plain": [
              "range"
            ]
          },
          "metadata": {},
          "execution_count": 50
        }
      ]
    },
    {
      "cell_type": "code",
      "metadata": {
        "colab": {
          "base_uri": "https://localhost:8080/"
        },
        "id": "pZmYvt-P5GgR",
        "outputId": "abda73d8-62e4-4885-bff4-8ee84f03b4f3"
      },
      "source": [
        "for index in range(8):\n",
        "    print(index)"
      ],
      "execution_count": null,
      "outputs": [
        {
          "output_type": "stream",
          "name": "stdout",
          "text": [
            "0\n",
            "1\n",
            "2\n",
            "3\n",
            "4\n",
            "5\n",
            "6\n",
            "7\n"
          ]
        }
      ]
    },
    {
      "cell_type": "code",
      "metadata": {
        "colab": {
          "base_uri": "https://localhost:8080/"
        },
        "id": "e9BUgH425S9Z",
        "outputId": "0bef8dc0-9831-4489-b54d-4bd02872e665"
      },
      "source": [
        "for i in range(len(list_of_ages)):\n",
        "    print(i, ') ', list_of_ages[i])\n",
        "    "
      ],
      "execution_count": null,
      "outputs": [
        {
          "output_type": "stream",
          "name": "stdout",
          "text": [
            "0 )  38\n",
            "1 )  67\n",
            "2 )  89\n",
            "3 )  12\n"
          ]
        }
      ]
    },
    {
      "cell_type": "code",
      "metadata": {
        "colab": {
          "base_uri": "https://localhost:8080/"
        },
        "id": "4p7nZzLh5iPO",
        "outputId": "8d968f82-7c58-4f8c-c6b2-0c1378c8a189"
      },
      "source": [
        "for age in list_of_ages:\n",
        "    print(age)"
      ],
      "execution_count": null,
      "outputs": [
        {
          "output_type": "stream",
          "name": "stdout",
          "text": [
            "38\n",
            "67\n",
            "89\n",
            "12\n"
          ]
        }
      ]
    },
    {
      "cell_type": "code",
      "metadata": {
        "colab": {
          "base_uri": "https://localhost:8080/"
        },
        "id": "ewbFsIn56F5o",
        "outputId": "3170a3b5-28eb-4315-a482-6e2ae4dd3209"
      },
      "source": [
        "while True:\n",
        "    print('this is never gonna end')\n",
        "    break"
      ],
      "execution_count": null,
      "outputs": [
        {
          "output_type": "stream",
          "name": "stdout",
          "text": [
            "this is never gonna end\n"
          ]
        }
      ]
    },
    {
      "cell_type": "markdown",
      "metadata": {
        "id": "mE3SsUGTA4UY"
      },
      "source": [
        "- List Comprehension\n",
        "    - Time comparison (even list)"
      ]
    },
    {
      "cell_type": "code",
      "metadata": {
        "colab": {
          "base_uri": "https://localhost:8080/"
        },
        "id": "SYSlK8sHQymx",
        "outputId": "59af00a5-04c7-493a-801d-0d6d4596971a"
      },
      "source": [
        "print(list_of_ages)"
      ],
      "execution_count": null,
      "outputs": [
        {
          "output_type": "stream",
          "name": "stdout",
          "text": [
            "[38, 67, 89, 12]\n"
          ]
        }
      ]
    },
    {
      "cell_type": "code",
      "metadata": {
        "id": "KRxQf0MmRUG8"
      },
      "source": [
        ""
      ],
      "execution_count": null,
      "outputs": []
    },
    {
      "cell_type": "markdown",
      "metadata": {
        "id": "yKVnzCqjq0Lx"
      },
      "source": [
        "- Comments \n",
        "    - Inline\n",
        "    - Block \n",
        "    - Functions (pydoc)\n"
      ]
    },
    {
      "cell_type": "markdown",
      "metadata": {
        "id": "9IUFirTfrw0Y"
      },
      "source": [
        "- Functions \n",
        "    - Parameters\n",
        "    - calling/returning\n",
        "    - Scope\n",
        "    - input/no input/output/no output\n",
        " \n",
        "\n"
      ]
    },
    {
      "cell_type": "markdown",
      "metadata": {
        "id": "DLq5-bNEBN7D"
      },
      "source": [
        "#Basic Exercises"
      ]
    },
    {
      "cell_type": "markdown",
      "metadata": {
        "id": "EEi2hZC2tvaK"
      },
      "source": [
        "1. Write a function that returns True if all the elements in the input list are even\n",
        "2. Write a function that returns the maximum value in a list\n",
        "2. Write a function that returns the sum of all values in the list\n",
        "2. Write a function that accepts a list of numbers as input and returns an inverted version of the list\n",
        "2. Write a function that returns the first and last elements of a list\n",
        "3. Write a function that, given a, b, c, x as inputs, calculates ax^2 + bx + c \n",
        "4. Write a function that calculates the number of days between two dates. The dates can be tuples\n",
        "5. Write a function that accepts 2 dictionaries as input and returns a single dictionary with the same data (merged)\n",
        "6. Write a function to print the content of a dictionary in order by key\n",
        "7. Write a function to find all keys in the provided dictionary that have the given value\n",
        "8. Write a function to sort a tuple by its float element"
      ]
    },
    {
      "cell_type": "markdown",
      "metadata": {
        "id": "ctMJXxf_peGm"
      },
      "source": [
        "#Python Language Advanced"
      ]
    },
    {
      "cell_type": "markdown",
      "metadata": {
        "id": "5J7XWUFzBBQP"
      },
      "source": [
        "- Objects\n",
        "    - Constructor\n",
        "    - Attributes\n",
        "    - Methods\n",
        "        - Built in -> \\_\\_repr__, \\_\\_eq__\n"
      ]
    },
    {
      "cell_type": "markdown",
      "metadata": {
        "id": "wqTqjSdyCARA"
      },
      "source": [
        "- Advanced functions\n",
        "    - lambdas\n",
        "    - map\n",
        "    - filter\n",
        "    - sorted"
      ]
    },
    {
      "cell_type": "markdown",
      "metadata": {
        "id": "ajWGyaKlBF1H"
      },
      "source": [
        "- Reading documentation\n",
        "- Exceptions \n",
        "    - Reading errors"
      ]
    },
    {
      "cell_type": "markdown",
      "metadata": {
        "id": "yVRTts6VwtuB"
      },
      "source": [
        "- Common Libraries\n",
        "    - os\n",
        "    - random\n",
        "    - copy\n",
        "    - time"
      ]
    },
    {
      "cell_type": "markdown",
      "metadata": {
        "id": "yQdKfdi8BbBA"
      },
      "source": [
        "#Advanced Exercises"
      ]
    },
    {
      "cell_type": "markdown",
      "metadata": {
        "id": "e5TW_waHBpv6"
      },
      "source": [
        "1. Write a function that orders a list in reverse alphabetical order, using Lambda\n",
        "2. Write a function to square and cube every number in a given list of integers, using Lambda\n",
        "3. Write a Triangle object that can be constructed by three points in space    \n",
        "    a. Define a method for the perimeter of the triangle    \n",
        "    b. Write an appropriate \\_\\_repr__ function   \n",
        "    c. Write an appropriate \\_\\_eq__ function so that two triangles are equal if their sides are equal\n",
        "4. Write a function to list only i) directories, ii) files and ii) all directories, files in a specified path"
      ]
    }
  ]
}