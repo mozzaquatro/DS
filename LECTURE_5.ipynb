{
  "nbformat": 4,
  "nbformat_minor": 0,
  "metadata": {
    "colab": {
      "name": "LECTURE 5",
      "provenance": [],
      "collapsed_sections": [
        "ctMJXxf_peGm"
      ],
      "include_colab_link": true
    },
    "kernelspec": {
      "name": "python3",
      "display_name": "Python 3"
    },
    "language_info": {
      "name": "python"
    }
  },
  "cells": [
    {
      "cell_type": "markdown",
      "metadata": {
        "id": "view-in-github",
        "colab_type": "text"
      },
      "source": [
        "<a href=\"https://colab.research.google.com/github/mozzaquatro/DS/blob/main/LECTURE_5.ipynb\" target=\"_parent\"><img src=\"https://colab.research.google.com/assets/colab-badge.svg\" alt=\"Open In Colab\"/></a>"
      ]
    },
    {
      "cell_type": "markdown",
      "metadata": {
        "id": "ctMJXxf_peGm"
      },
      "source": [
        "#Python Language Advanced"
      ]
    },
    {
      "cell_type": "markdown",
      "metadata": {
        "id": "5J7XWUFzBBQP"
      },
      "source": [
        "- Objects\n",
        "    - Constructor\n",
        "    - Attributes\n",
        "    - Methods\n",
        "        - Built in -> \\_\\_repr__, \\_\\_eq__\n",
        "    - Inheritance\n",
        "        - isinstance, issubclass\n"
      ]
    },
    {
      "cell_type": "code",
      "metadata": {
        "id": "vYc4W-N8rfhy"
      },
      "source": [
        "person_dict = {\n",
        "    'name':'Nick',\n",
        "    'age':38\n",
        "}"
      ],
      "execution_count": null,
      "outputs": []
    },
    {
      "cell_type": "code",
      "metadata": {
        "colab": {
          "base_uri": "https://localhost:8080/"
        },
        "id": "pw3C5LSfr22D",
        "outputId": "53d69596-85e4-4dad-9d04-169181702983"
      },
      "source": [
        "person_dict['age']"
      ],
      "execution_count": null,
      "outputs": [
        {
          "output_type": "execute_result",
          "data": {
            "text/plain": [
              "38"
            ]
          },
          "metadata": {},
          "execution_count": 147
        }
      ]
    },
    {
      "cell_type": "code",
      "metadata": {
        "id": "u8GtpWnIt2GT"
      },
      "source": [
        "person_dict = {\n",
        "    'name':'',\n",
        "    'age':0\n",
        "}"
      ],
      "execution_count": null,
      "outputs": []
    },
    {
      "cell_type": "code",
      "metadata": {
        "id": "RyU7Z-Byt6-e"
      },
      "source": [
        "person_dict['name'] = 'Nick'"
      ],
      "execution_count": null,
      "outputs": []
    },
    {
      "cell_type": "code",
      "metadata": {
        "colab": {
          "base_uri": "https://localhost:8080/"
        },
        "id": "uXh4eOILt-Aa",
        "outputId": "c98b2f92-f2ee-4cdf-bc54-bebefa922e80"
      },
      "source": [
        "person_dict"
      ],
      "execution_count": null,
      "outputs": [
        {
          "output_type": "execute_result",
          "data": {
            "text/plain": [
              "{'age': 0, 'name': 'Nick'}"
            ]
          },
          "metadata": {},
          "execution_count": 150
        }
      ]
    },
    {
      "cell_type": "code",
      "metadata": {
        "id": "K6eVrrGGsBXJ"
      },
      "source": [
        "class Person:\n",
        "    def __init__(self, name, age):\n",
        "        self.name = name\n",
        "        self.age = age\n",
        "\n",
        "    def ageing(self):\n",
        "        self.age = self.age + 1\n",
        "\n",
        "    def __repr__(self):\n",
        "        return 'Hello, I am ' + self.name + ' and I am ' + str(self.age) + ' years old'"
      ],
      "execution_count": null,
      "outputs": []
    },
    {
      "cell_type": "code",
      "metadata": {
        "id": "2RahJXs2s0F6"
      },
      "source": [
        "person_1 = Person('Nick', 38)"
      ],
      "execution_count": null,
      "outputs": []
    },
    {
      "cell_type": "code",
      "metadata": {
        "colab": {
          "base_uri": "https://localhost:8080/"
        },
        "id": "GfEWSjvYtPPy",
        "outputId": "08e9dcab-7958-47b9-cf41-767e4c3443bb"
      },
      "source": [
        "print(person_1.age)\n",
        "print(person_1.name)"
      ],
      "execution_count": null,
      "outputs": [
        {
          "output_type": "stream",
          "name": "stdout",
          "text": [
            "38\n",
            "Nick\n"
          ]
        }
      ]
    },
    {
      "cell_type": "code",
      "metadata": {
        "id": "qxfBTyiSvw0K"
      },
      "source": [
        "person_1.ageing()"
      ],
      "execution_count": null,
      "outputs": []
    },
    {
      "cell_type": "code",
      "metadata": {
        "colab": {
          "base_uri": "https://localhost:8080/"
        },
        "id": "Gt42R_iTvzYq",
        "outputId": "bca5eaf3-811b-42a0-c561-2176c895643c"
      },
      "source": [
        "print(person_1.age)"
      ],
      "execution_count": null,
      "outputs": [
        {
          "output_type": "stream",
          "name": "stdout",
          "text": [
            "39\n"
          ]
        }
      ]
    },
    {
      "cell_type": "code",
      "metadata": {
        "colab": {
          "base_uri": "https://localhost:8080/"
        },
        "id": "Rs5_ifzMuOYC",
        "outputId": "497cab7b-ab39-42d1-e065-2fc2eb01055e"
      },
      "source": [
        "print(person_1)"
      ],
      "execution_count": null,
      "outputs": [
        {
          "output_type": "stream",
          "name": "stdout",
          "text": [
            "Hello, I am Nick and I am 39 years old\n"
          ]
        }
      ]
    },
    {
      "cell_type": "code",
      "metadata": {
        "id": "xefmrAoSzI1n"
      },
      "source": [
        "person_2 = Person()"
      ],
      "execution_count": null,
      "outputs": []
    },
    {
      "cell_type": "code",
      "metadata": {
        "id": "c4VhuKnLuQQN"
      },
      "source": [
        "person_2.name = 'Lucio'\n",
        "person_2.age = 38"
      ],
      "execution_count": null,
      "outputs": []
    },
    {
      "cell_type": "code",
      "metadata": {
        "colab": {
          "base_uri": "https://localhost:8080/"
        },
        "id": "-pv6nCk3uV5V",
        "outputId": "6f8d626e-ea9f-4c18-f2a5-ce2a3bc64404"
      },
      "source": [
        "print(person_2.name)\n",
        "print(person_2.age)"
      ],
      "execution_count": null,
      "outputs": [
        {
          "output_type": "stream",
          "name": "stdout",
          "text": [
            "Lucio\n",
            "38\n"
          ]
        }
      ]
    },
    {
      "cell_type": "code",
      "metadata": {
        "colab": {
          "base_uri": "https://localhost:8080/"
        },
        "id": "O9LUyw-NzLjK",
        "outputId": "e4292cc9-6027-4350-be5c-501b28bc85a8"
      },
      "source": [
        "print(person_2)"
      ],
      "execution_count": null,
      "outputs": [
        {
          "output_type": "stream",
          "name": "stdout",
          "text": [
            "Hello, I am Lucio and I am 38 years old\n"
          ]
        }
      ]
    },
    {
      "cell_type": "code",
      "metadata": {
        "id": "zCHYYDr937o2"
      },
      "source": [
        "class Student(Person):\n",
        "    def __init__(self, name, age, studentID):\n",
        "        self.name = name\n",
        "        self.age = age\n",
        "        self.studentID = studentID\n",
        "\n",
        "    def give_grade(self, grade):\n",
        "        self.grade = grade\n",
        "    "
      ],
      "execution_count": null,
      "outputs": []
    },
    {
      "cell_type": "code",
      "metadata": {
        "id": "wMZGFlPRV642"
      },
      "source": [
        "class Student(Person):\n",
        "    def __init__(self, name, age, studentID):\n",
        "        Person.__init__(self,  name, age)\n",
        "        self.studentID = studentID\n",
        "\n",
        "    def give_grade(self, grade):\n",
        "        self.grade = grade\n",
        "    "
      ],
      "execution_count": null,
      "outputs": []
    },
    {
      "cell_type": "code",
      "metadata": {
        "id": "YNHaxWnDV-0V"
      },
      "source": [
        "student_1 = Student('Nick', 28, 'VR364536')"
      ],
      "execution_count": null,
      "outputs": []
    },
    {
      "cell_type": "code",
      "metadata": {
        "id": "CgDPrW7vWHZV"
      },
      "source": [
        ""
      ],
      "execution_count": null,
      "outputs": []
    },
    {
      "cell_type": "code",
      "metadata": {
        "id": "JZ6gJ46n5tQv"
      },
      "source": [
        "class Professor(Person):\n",
        "    def __init__(self, name, age, studentID):\n",
        "        self.name = name\n",
        "        self.age = age\n",
        "        self.ID = 'XXX'\n",
        "\n",
        "    def give_classes(self, classes):\n",
        "        self.classes = classes"
      ],
      "execution_count": null,
      "outputs": []
    },
    {
      "cell_type": "code",
      "metadata": {
        "id": "X9p_rINx4Rbm"
      },
      "source": [
        "student_1 = Student('Nick', 28, 'VR365523')"
      ],
      "execution_count": null,
      "outputs": []
    },
    {
      "cell_type": "code",
      "metadata": {
        "colab": {
          "base_uri": "https://localhost:8080/"
        },
        "id": "ctg8szre4ejw",
        "outputId": "2cdc38dd-e04a-4d87-fb49-fb7be7ce7388"
      },
      "source": [
        "print(student_1)"
      ],
      "execution_count": null,
      "outputs": [
        {
          "output_type": "stream",
          "name": "stdout",
          "text": [
            "Hello, I am Nick and I am 28 years old\n"
          ]
        }
      ]
    },
    {
      "cell_type": "code",
      "metadata": {
        "id": "w1AH-C4848Lr"
      },
      "source": [
        "student_1.ageing()"
      ],
      "execution_count": null,
      "outputs": []
    },
    {
      "cell_type": "code",
      "metadata": {
        "colab": {
          "base_uri": "https://localhost:8080/"
        },
        "id": "gHM2eKLp4-iM",
        "outputId": "19c22bf5-34d2-4438-8595-187d78500c98"
      },
      "source": [
        "print(student_1.studentID)"
      ],
      "execution_count": null,
      "outputs": [
        {
          "output_type": "stream",
          "name": "stdout",
          "text": [
            "VR365523\n"
          ]
        }
      ]
    },
    {
      "cell_type": "code",
      "metadata": {
        "id": "Zx9zCbNM5dyG"
      },
      "source": [
        "student_1.give_grade(30)"
      ],
      "execution_count": null,
      "outputs": []
    },
    {
      "cell_type": "code",
      "metadata": {
        "colab": {
          "base_uri": "https://localhost:8080/"
        },
        "id": "GBuvnPUs5gne",
        "outputId": "dc8e7b35-258b-447b-885c-f0b9d982f43f"
      },
      "source": [
        "student_1.grade"
      ],
      "execution_count": null,
      "outputs": [
        {
          "output_type": "execute_result",
          "data": {
            "text/plain": [
              "30"
            ]
          },
          "metadata": {},
          "execution_count": 224
        }
      ]
    },
    {
      "cell_type": "markdown",
      "metadata": {
        "id": "wqTqjSdyCARA"
      },
      "source": [
        "- Advanced functions\n",
        "    - lambdas\n",
        "    - map\n",
        "    - filter\n",
        "    - sorted"
      ]
    },
    {
      "cell_type": "code",
      "metadata": {
        "id": "WKxGOikC6kj3"
      },
      "source": [
        "#a function that given a number n as input, returns n + 1\n",
        "def successor(n):\n",
        "    return n + 1"
      ],
      "execution_count": null,
      "outputs": []
    },
    {
      "cell_type": "code",
      "metadata": {
        "colab": {
          "base_uri": "https://localhost:8080/"
        },
        "id": "GIknx_0_6-ov",
        "outputId": "f9e04b33-0b34-4ec5-e672-3c5c04f8f1ac"
      },
      "source": [
        "successor(234)"
      ],
      "execution_count": null,
      "outputs": [
        {
          "output_type": "execute_result",
          "data": {
            "text/plain": [
              "235"
            ]
          },
          "metadata": {},
          "execution_count": 237
        }
      ]
    },
    {
      "cell_type": "code",
      "metadata": {
        "id": "0iCbU4xM7D5y"
      },
      "source": [
        "successor_lambda = lambda x : x + 1"
      ],
      "execution_count": null,
      "outputs": []
    },
    {
      "cell_type": "code",
      "metadata": {
        "colab": {
          "base_uri": "https://localhost:8080/"
        },
        "id": "VD0Nxcw67J84",
        "outputId": "8ce48006-9fcd-4988-a355-82c1a5454777"
      },
      "source": [
        "successor_lambda(1)"
      ],
      "execution_count": null,
      "outputs": [
        {
          "output_type": "execute_result",
          "data": {
            "text/plain": [
              "2"
            ]
          },
          "metadata": {},
          "execution_count": 239
        }
      ]
    },
    {
      "cell_type": "code",
      "metadata": {
        "id": "k9RCyBTz7qDQ"
      },
      "source": [
        "shorter_list_of_numbers = [0,1,2,3]"
      ],
      "execution_count": null,
      "outputs": []
    },
    {
      "cell_type": "code",
      "metadata": {
        "colab": {
          "base_uri": "https://localhost:8080/"
        },
        "id": "3k6cx81E7-4_",
        "outputId": "27b0b729-d036-450a-ebc6-6d474f324ce6"
      },
      "source": [
        "list(map(successor, shorter_list_of_numbers))"
      ],
      "execution_count": null,
      "outputs": [
        {
          "output_type": "execute_result",
          "data": {
            "text/plain": [
              "[1, 2, 3, 4]"
            ]
          },
          "metadata": {},
          "execution_count": 241
        }
      ]
    },
    {
      "cell_type": "code",
      "metadata": {
        "colab": {
          "base_uri": "https://localhost:8080/"
        },
        "id": "T0zeEw2L8Nl1",
        "outputId": "bd55cbce-b55a-4661-e555-d468627c2457"
      },
      "source": [
        "list(map(lambda x : x + 1, shorter_list_of_numbers))"
      ],
      "execution_count": null,
      "outputs": [
        {
          "output_type": "execute_result",
          "data": {
            "text/plain": [
              "[1, 2, 3, 4]"
            ]
          },
          "metadata": {},
          "execution_count": 242
        }
      ]
    },
    {
      "cell_type": "code",
      "metadata": {
        "id": "AIxHvJrU7618"
      },
      "source": [
        "unordered_list_of_numbers = [12,3,45,23,-1]"
      ],
      "execution_count": null,
      "outputs": []
    },
    {
      "cell_type": "code",
      "metadata": {
        "id": "8nAsCjPI89-o"
      },
      "source": [
        "ordered_list_of_numbers = sorted(unordered_list_of_numbers)"
      ],
      "execution_count": null,
      "outputs": []
    },
    {
      "cell_type": "code",
      "metadata": {
        "colab": {
          "base_uri": "https://localhost:8080/"
        },
        "id": "EFDZ3IMo9W2k",
        "outputId": "a757eef7-e82a-41ab-b688-3f8ed55160fa"
      },
      "source": [
        "ordered_list_of_numbers"
      ],
      "execution_count": null,
      "outputs": [
        {
          "output_type": "execute_result",
          "data": {
            "text/plain": [
              "[-1, 3, 12, 23, 45]"
            ]
          },
          "metadata": {},
          "execution_count": 10
        }
      ]
    },
    {
      "cell_type": "code",
      "metadata": {
        "id": "QXvwsOvIUPRG"
      },
      "source": [
        "unordered_list_of_numbers.sort()"
      ],
      "execution_count": null,
      "outputs": []
    },
    {
      "cell_type": "code",
      "metadata": {
        "id": "3XPZuClXT_0r"
      },
      "source": [
        "unordered_list_of_numbers.sort()"
      ],
      "execution_count": null,
      "outputs": []
    },
    {
      "cell_type": "code",
      "metadata": {
        "colab": {
          "base_uri": "https://localhost:8080/"
        },
        "id": "36t7Rcy1UCij",
        "outputId": "7424a6da-4b48-4cbe-b8e8-de42bae28f38"
      },
      "source": [
        "unordered_list_of_numbers"
      ],
      "execution_count": null,
      "outputs": [
        {
          "output_type": "execute_result",
          "data": {
            "text/plain": [
              "[-1, 3, 12, 23, 45]"
            ]
          },
          "metadata": {},
          "execution_count": 13
        }
      ]
    },
    {
      "cell_type": "code",
      "metadata": {
        "id": "jMfOF-SlUx_y"
      },
      "source": [
        "unordered_list_of_numbers.sort(reverse=True)"
      ],
      "execution_count": null,
      "outputs": []
    },
    {
      "cell_type": "markdown",
      "metadata": {
        "id": "ajWGyaKlBF1H"
      },
      "source": [
        "- Reading documentation\n",
        "- Exceptions \n",
        "    - Reading errors"
      ]
    },
    {
      "cell_type": "code",
      "metadata": {
        "id": "m-fZk_0UVsQW"
      },
      "source": [
        "def divide_numbers(num_1, num_2):\n",
        "    result = num_1\n",
        "    try:\n",
        "        result = num_1 / num_2\n",
        "        this_variable_doesnt_exist.sort()\n",
        "    except ZeroDivisionError:\n",
        "        print('hello, you cannot divide by zero')\n",
        "    \n",
        "    return result"
      ],
      "execution_count": null,
      "outputs": []
    },
    {
      "cell_type": "code",
      "metadata": {
        "colab": {
          "base_uri": "https://localhost:8080/"
        },
        "id": "ObLymjgGXly1",
        "outputId": "c42f781f-8157-4da7-a1ca-d5717cf98583"
      },
      "source": [
        "divide_numbers(3, 1)"
      ],
      "execution_count": null,
      "outputs": [
        {
          "output_type": "error",
          "ename": "NameError",
          "evalue": "ignored",
          "traceback": [
            "\u001b[0;31m---------------------------------------------------------------------------\u001b[0m",
            "\u001b[0;31mNameError\u001b[0m                                 Traceback (most recent call last)",
            "\u001b[0;32m<ipython-input-46-f8917c6e6ef5>\u001b[0m in \u001b[0;36m<module>\u001b[0;34m()\u001b[0m\n\u001b[0;32m----> 1\u001b[0;31m \u001b[0mdivide_numbers\u001b[0m\u001b[0;34m(\u001b[0m\u001b[0;36m3\u001b[0m\u001b[0;34m,\u001b[0m \u001b[0;36m1\u001b[0m\u001b[0;34m)\u001b[0m\u001b[0;34m\u001b[0m\u001b[0;34m\u001b[0m\u001b[0m\n\u001b[0m",
            "\u001b[0;32m<ipython-input-45-56ae0cce0261>\u001b[0m in \u001b[0;36mdivide_numbers\u001b[0;34m(num_1, num_2)\u001b[0m\n\u001b[1;32m      3\u001b[0m     \u001b[0;32mtry\u001b[0m\u001b[0;34m:\u001b[0m\u001b[0;34m\u001b[0m\u001b[0;34m\u001b[0m\u001b[0m\n\u001b[1;32m      4\u001b[0m         \u001b[0mresult\u001b[0m \u001b[0;34m=\u001b[0m \u001b[0mnum_1\u001b[0m \u001b[0;34m/\u001b[0m \u001b[0mnum_2\u001b[0m\u001b[0;34m\u001b[0m\u001b[0;34m\u001b[0m\u001b[0m\n\u001b[0;32m----> 5\u001b[0;31m         \u001b[0mthis_variable_doesnt_exist\u001b[0m\u001b[0;34m.\u001b[0m\u001b[0msort\u001b[0m\u001b[0;34m(\u001b[0m\u001b[0;34m)\u001b[0m\u001b[0;34m\u001b[0m\u001b[0;34m\u001b[0m\u001b[0m\n\u001b[0m\u001b[1;32m      6\u001b[0m     \u001b[0;32mexcept\u001b[0m \u001b[0mZeroDivisionError\u001b[0m\u001b[0;34m:\u001b[0m\u001b[0;34m\u001b[0m\u001b[0;34m\u001b[0m\u001b[0m\n\u001b[1;32m      7\u001b[0m         \u001b[0mprint\u001b[0m\u001b[0;34m(\u001b[0m\u001b[0;34m'hello, you cannot divide by zero'\u001b[0m\u001b[0;34m)\u001b[0m\u001b[0;34m\u001b[0m\u001b[0;34m\u001b[0m\u001b[0m\n",
            "\u001b[0;31mNameError\u001b[0m: name 'this_variable_doesnt_exist' is not defined"
          ]
        }
      ]
    },
    {
      "cell_type": "markdown",
      "metadata": {
        "id": "b4z4lmDxtxRd"
      },
      "source": [
        "- Opening files"
      ]
    },
    {
      "cell_type": "code",
      "metadata": {
        "colab": {
          "base_uri": "https://localhost:8080/"
        },
        "id": "fVLjWUzWZ6mj",
        "outputId": "4e11f146-e41f-404b-b542-9659eb8bc402"
      },
      "source": [
        "open('sample_data/README.md', 'r')"
      ],
      "execution_count": null,
      "outputs": [
        {
          "output_type": "execute_result",
          "data": {
            "text/plain": [
              "<_io.TextIOWrapper name='sample_data/README.md' mode='r' encoding='UTF-8'>"
            ]
          },
          "metadata": {},
          "execution_count": 47
        }
      ]
    },
    {
      "cell_type": "code",
      "metadata": {
        "id": "UoJPUcD2aT_g"
      },
      "source": [
        "f = open('sample_data/README.md', 'r')"
      ],
      "execution_count": null,
      "outputs": []
    },
    {
      "cell_type": "code",
      "metadata": {
        "colab": {
          "base_uri": "https://localhost:8080/"
        },
        "id": "BkXzUJuEaZWR",
        "outputId": "c5b28900-e6c0-4b58-9951-a561656c2e5d"
      },
      "source": [
        "f.readline()"
      ],
      "execution_count": null,
      "outputs": [
        {
          "output_type": "execute_result",
          "data": {
            "application/vnd.google.colaboratory.intrinsic+json": {
              "type": "string"
            },
            "text/plain": [
              "'This directory includes a few sample datasets to get you started.\\n'"
            ]
          },
          "metadata": {},
          "execution_count": 60
        }
      ]
    },
    {
      "cell_type": "code",
      "metadata": {
        "id": "QyVR33zjaisP"
      },
      "source": [
        "f.close()"
      ],
      "execution_count": null,
      "outputs": []
    },
    {
      "cell_type": "code",
      "metadata": {
        "colab": {
          "base_uri": "https://localhost:8080/"
        },
        "id": "K2907KoJavSG",
        "outputId": "88d435af-6d3c-4833-9d1b-1fc93ca9056e"
      },
      "source": [
        "with open('sample_data/README.md', 'r') as f:\n",
        "    for line in f:\n",
        "        print(line)"
      ],
      "execution_count": null,
      "outputs": [
        {
          "output_type": "stream",
          "name": "stdout",
          "text": [
            "This directory includes a few sample datasets to get you started.\n",
            "\n",
            "\n",
            "\n",
            "*   `california_housing_data*.csv` is California housing data from the 1990 US\n",
            "\n",
            "    Census; more information is available at:\n",
            "\n",
            "    https://developers.google.com/machine-learning/crash-course/california-housing-data-description\n",
            "\n",
            "\n",
            "\n",
            "*   `mnist_*.csv` is a small sample of the\n",
            "\n",
            "    [MNIST database](https://en.wikipedia.org/wiki/MNIST_database), which is\n",
            "\n",
            "    described at: http://yann.lecun.com/exdb/mnist/\n",
            "\n",
            "\n",
            "\n",
            "*   `anscombe.json` contains a copy of\n",
            "\n",
            "    [Anscombe's quartet](https://en.wikipedia.org/wiki/Anscombe%27s_quartet); it\n",
            "\n",
            "    was originally described in\n",
            "\n",
            "\n",
            "\n",
            "    Anscombe, F. J. (1973). 'Graphs in Statistical Analysis'. American\n",
            "\n",
            "    Statistician. 27 (1): 17-21. JSTOR 2682899.\n",
            "\n",
            "\n",
            "\n",
            "    and our copy was prepared by the\n",
            "\n",
            "    [vega_datasets library](https://github.com/altair-viz/vega_datasets/blob/4f67bdaad10f45e3549984e17e1b3088c731503d/vega_datasets/_data/anscombe.json).\n",
            "\n"
          ]
        }
      ]
    },
    {
      "cell_type": "code",
      "metadata": {
        "id": "RASBvfF-bNv6"
      },
      "source": [
        "f = open('new_file.txt', 'w')"
      ],
      "execution_count": null,
      "outputs": []
    },
    {
      "cell_type": "code",
      "metadata": {
        "colab": {
          "base_uri": "https://localhost:8080/"
        },
        "id": "-4f9VRkwbZIH",
        "outputId": "7856e701-40bd-434f-da76-17555959631f"
      },
      "source": [
        "f.write('hello, this is the first line')"
      ],
      "execution_count": null,
      "outputs": [
        {
          "output_type": "execute_result",
          "data": {
            "text/plain": [
              "29"
            ]
          },
          "metadata": {},
          "execution_count": 66
        }
      ]
    },
    {
      "cell_type": "code",
      "metadata": {
        "id": "TcObQFwDbgPu"
      },
      "source": [
        "f.close()"
      ],
      "execution_count": null,
      "outputs": []
    },
    {
      "cell_type": "code",
      "metadata": {
        "colab": {
          "base_uri": "https://localhost:8080/"
        },
        "id": "OLEgVr0mblHT",
        "outputId": "d65a82f6-4670-43f1-c586-a4ee32405aae"
      },
      "source": [
        "len('hello, this is the first line')"
      ],
      "execution_count": null,
      "outputs": [
        {
          "output_type": "execute_result",
          "data": {
            "text/plain": [
              "29"
            ]
          },
          "metadata": {},
          "execution_count": 68
        }
      ]
    },
    {
      "cell_type": "code",
      "metadata": {
        "id": "p7ZxZTOcbrQw"
      },
      "source": [
        "f = open('new_file.txt', 'w')\n",
        "f.write('hello, this is the second line')\n",
        "f.close()"
      ],
      "execution_count": null,
      "outputs": []
    },
    {
      "cell_type": "code",
      "metadata": {
        "id": "N9k1OPqHbxuQ"
      },
      "source": [
        "f = open('new_file.txt', 'a')\n",
        "f.write('\\nhello, this is the second line')\n",
        "f.close()"
      ],
      "execution_count": null,
      "outputs": []
    },
    {
      "cell_type": "markdown",
      "metadata": {
        "id": "yVRTts6VwtuB"
      },
      "source": [
        "- Common Libraries\n",
        "    - os\n",
        "    - random\n",
        "    - copy\n",
        "    - time"
      ]
    },
    {
      "cell_type": "code",
      "metadata": {
        "id": "BprLjPTBcNJX"
      },
      "source": [
        "import os\n",
        "import sys"
      ],
      "execution_count": null,
      "outputs": []
    },
    {
      "cell_type": "code",
      "metadata": {
        "colab": {
          "base_uri": "https://localhost:8080/"
        },
        "id": "c-08_vTWcbjO",
        "outputId": "c56e97ea-ca6d-46d1-ad04-ef4fc4735031"
      },
      "source": [
        "for file in os.listdir('sample_data'):\n",
        "    print(file)"
      ],
      "execution_count": null,
      "outputs": [
        {
          "output_type": "stream",
          "name": "stdout",
          "text": [
            "README.md\n",
            "anscombe.json\n",
            "mnist_train_small.csv\n",
            "california_housing_test.csv\n",
            "mnist_test.csv\n",
            "california_housing_train.csv\n"
          ]
        }
      ]
    },
    {
      "cell_type": "code",
      "metadata": {
        "id": "ul_KbsvTcwA_"
      },
      "source": [
        "import time"
      ],
      "execution_count": null,
      "outputs": []
    },
    {
      "cell_type": "code",
      "metadata": {
        "id": "eyk4hJHIdBJc"
      },
      "source": [
        "time_begining = time.time()\n",
        "\n",
        "for i in range(100000):\n",
        "    l = i\n",
        "\n",
        "time_end = time.time() - time_begining"
      ],
      "execution_count": null,
      "outputs": []
    },
    {
      "cell_type": "code",
      "metadata": {
        "colab": {
          "base_uri": "https://localhost:8080/"
        },
        "id": "hWKI8yl4dTqs",
        "outputId": "bbf833c1-4d52-49a3-a25c-4957d230b409"
      },
      "source": [
        "time_end"
      ],
      "execution_count": null,
      "outputs": [
        {
          "output_type": "execute_result",
          "data": {
            "text/plain": [
              "0.01865100860595703"
            ]
          },
          "metadata": {},
          "execution_count": 80
        }
      ]
    },
    {
      "cell_type": "code",
      "metadata": {
        "id": "yWKZvDXCdwPl"
      },
      "source": [
        "from os import listdir"
      ],
      "execution_count": null,
      "outputs": []
    },
    {
      "cell_type": "code",
      "metadata": {
        "colab": {
          "base_uri": "https://localhost:8080/"
        },
        "id": "ZOiIzbjAdyos",
        "outputId": "07a68898-2c55-49f0-eeb0-e5e2e8de3228"
      },
      "source": [
        "listdir()"
      ],
      "execution_count": null,
      "outputs": [
        {
          "output_type": "execute_result",
          "data": {
            "text/plain": [
              "['.config', 'new_file.txt', 'sample_data']"
            ]
          },
          "metadata": {},
          "execution_count": 83
        }
      ]
    },
    {
      "cell_type": "code",
      "metadata": {
        "id": "ZOANjQGrd58m"
      },
      "source": [
        "import numpy as np"
      ],
      "execution_count": null,
      "outputs": []
    },
    {
      "cell_type": "code",
      "metadata": {
        "colab": {
          "base_uri": "https://localhost:8080/"
        },
        "id": "zhND-Z4Gd8P9",
        "outputId": "1fd63d82-957f-46d2-b0a1-005a82b6d340"
      },
      "source": [
        "np.array([1,2])"
      ],
      "execution_count": null,
      "outputs": [
        {
          "output_type": "execute_result",
          "data": {
            "text/plain": [
              "array([1, 2])"
            ]
          },
          "metadata": {},
          "execution_count": 85
        }
      ]
    },
    {
      "cell_type": "markdown",
      "metadata": {
        "id": "yQdKfdi8BbBA"
      },
      "source": [
        "#Advanced Exercises"
      ]
    },
    {
      "cell_type": "markdown",
      "metadata": {
        "id": "e5TW_waHBpv6"
      },
      "source": [
        "1. Write a function that takes a list of tuples (see example) and return a list of objects that have the same data.    \n",
        "list = [('Nick', 38, 'professor'), ('Mark', 23, 'student'), ('Elsa', 43, 'janitor'), ('Richard', 56, 'bus driver'), ('Frank', 72, 'trash man')]\n",
        "\n",
        "2. Write a function that orders the previously generated list of objects in reverse alphabetical order (by name), using sorted and Lambda.    \n",
        "2. Write a function to square and cube every number in a given list of integers, and one to cube every number. Both using Lambda.     \n",
        "list = [12, 32, 52, 226, 63, 85, 47, 9]\n",
        "\n",
        "3. Write a Triangle object that can be constructed by three points in space    \n",
        "    a. Define a method for the perimeter of the triangle    \n",
        "    b. Write an appropriate \\_\\_repr__ function   \n",
        "    c. Write an appropriate \\_\\_eq__ function so that two triangles are equal if their sides are equal\n",
        "4. Write a function to list only i) directories, ii) files and ii) all directories, files in a specified path\n",
        "5. Write a function that renames a file. Both old name and new name are passed as inputs.    \n",
        "Bonus: if the original file doesn't exist, create the renamed file.\n",
        "6. Write a function that takes a filename and a string as input and writes that string in the file.\n"
      ]
    },
    {
      "cell_type": "code",
      "metadata": {
        "id": "ZPITVi2Wo76j"
      },
      "source": [
        "sorted?"
      ],
      "execution_count": null,
      "outputs": []
    },
    {
      "cell_type": "code",
      "metadata": {
        "id": "vw-wlVRto-3u"
      },
      "source": [
        "#Write a function that takes a list of tuples (see example) and return a list of objects that have the same data.\n",
        "class PersonWithJob:\n",
        "    def __init__(self, name, age, job):\n",
        "        self.name = name\n",
        "        self.age = age\n",
        "        self.job = job\n",
        "    \n",
        "    def __repr__(self):\n",
        "        return self.name + ' ' + str(self.age) + ' ' + self.job"
      ],
      "execution_count": null,
      "outputs": []
    },
    {
      "cell_type": "code",
      "metadata": {
        "id": "MTpquaQjpsFg"
      },
      "source": [
        "person_1 = PersonWithJob('Nick', 38, 'professor')"
      ],
      "execution_count": null,
      "outputs": []
    },
    {
      "cell_type": "code",
      "metadata": {
        "colab": {
          "base_uri": "https://localhost:8080/"
        },
        "id": "kzUGnVz-pcjY",
        "outputId": "5b442c1f-04a5-4c92-bb21-1705fcd6ea24"
      },
      "source": [
        "person_1"
      ],
      "execution_count": null,
      "outputs": [
        {
          "output_type": "execute_result",
          "data": {
            "text/plain": [
              "Nick 38 professor"
            ]
          },
          "metadata": {},
          "execution_count": 101
        }
      ]
    },
    {
      "cell_type": "code",
      "metadata": {
        "id": "-urhjrFNjyyM"
      },
      "source": [
        "list_of_people_tuples = [('Nick', 38, 'professor'), ('Mark', 23, 'student'), ('Elsa', 43, 'janitor'), ('Richard', 56, 'bus driver'), ('Frank', 72, 'trash man')]"
      ],
      "execution_count": null,
      "outputs": []
    },
    {
      "cell_type": "code",
      "metadata": {
        "id": "FQJz4c5WqDso"
      },
      "source": [
        "def generate_list_of_people_objects_from_tuples(list_of_people_tuples):\n",
        "    list_of_people_objects = []\n",
        "\n",
        "    for person_tuple in list_of_people_tuples:\n",
        "        name = person_tuple[0]\n",
        "        age = person_tuple[1]\n",
        "        job = person_tuple[2]\n",
        "        person = PersonWithJob(name, age, job)\n",
        "        list_of_people_objects.append(person)\n",
        "\n",
        "    return list_of_people_objects"
      ],
      "execution_count": null,
      "outputs": []
    },
    {
      "cell_type": "code",
      "metadata": {
        "id": "_2dWF2e0riFe"
      },
      "source": [
        "list_of_people_objects = generate_list_of_people_objects_from_tuples(list_of_people_tuples)"
      ],
      "execution_count": null,
      "outputs": []
    },
    {
      "cell_type": "code",
      "metadata": {
        "colab": {
          "base_uri": "https://localhost:8080/"
        },
        "id": "I2szpXxjq1Yf",
        "outputId": "096a601e-e6b7-4dd8-a236-53d6f147b8fd"
      },
      "source": [
        "list_of_people_objects"
      ],
      "execution_count": null,
      "outputs": [
        {
          "output_type": "execute_result",
          "data": {
            "text/plain": [
              "[Nick 38 professor,\n",
              " Mark 23 student,\n",
              " Elsa 43 janitor,\n",
              " Richard 56 bus driver,\n",
              " Frank 72 trash man]"
            ]
          },
          "metadata": {},
          "execution_count": 109
        }
      ]
    },
    {
      "cell_type": "code",
      "metadata": {
        "id": "SJbWb6ewrytZ"
      },
      "source": [
        "#Write a function that orders the previously generated list of objects in reverse age order, \n",
        "#using sorted and Lambda.\n",
        "def reverse_sort_list_of_people_by_age(list_of_people_objects):\n",
        "    return sorted(list_of_people_objects, key=lambda x: x.age, reverse=True)"
      ],
      "execution_count": null,
      "outputs": []
    },
    {
      "cell_type": "code",
      "metadata": {
        "colab": {
          "base_uri": "https://localhost:8080/"
        },
        "id": "bBwHSFF-wWpk",
        "outputId": "ae0e8fd9-f488-4db7-d235-0c3931dfbfbe"
      },
      "source": [
        "reverse_sort_list_of_people_by_age(list_of_people_objects)"
      ],
      "execution_count": null,
      "outputs": [
        {
          "output_type": "execute_result",
          "data": {
            "text/plain": [
              "[Frank 72 trash man,\n",
              " Richard 56 bus driver,\n",
              " Elsa 43 janitor,\n",
              " Nick 38 professor,\n",
              " Mark 23 student]"
            ]
          },
          "metadata": {},
          "execution_count": 114
        }
      ]
    },
    {
      "cell_type": "code",
      "metadata": {
        "id": "0RwjoEpewZRz"
      },
      "source": [
        "#Write a function that orders the previously generated list of objects in reverse name order, \n",
        "#using sorted and Lambda.\n",
        "def reverse_sort_list_of_people_by_name(list_of_people_objects):\n",
        "    return sorted(list_of_people_objects, key=lambda x: x.name, reverse=True)"
      ],
      "execution_count": null,
      "outputs": []
    },
    {
      "cell_type": "code",
      "metadata": {
        "colab": {
          "base_uri": "https://localhost:8080/"
        },
        "id": "ewLNYOCSwFZW",
        "outputId": "a77fcd03-65d7-4abb-dab4-8d4263f82803"
      },
      "source": [
        "reverse_sort_list_of_people_by_name(list_of_people_objects)"
      ],
      "execution_count": null,
      "outputs": [
        {
          "output_type": "execute_result",
          "data": {
            "text/plain": [
              "[Richard 56 bus driver,\n",
              " Nick 38 professor,\n",
              " Mark 23 student,\n",
              " Frank 72 trash man,\n",
              " Elsa 43 janitor]"
            ]
          },
          "metadata": {},
          "execution_count": 119
        }
      ]
    },
    {
      "cell_type": "code",
      "metadata": {
        "id": "VafkKztivlS3"
      },
      "source": [
        ""
      ],
      "execution_count": null,
      "outputs": []
    }
  ]
}