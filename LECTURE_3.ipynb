{
  "nbformat": 4,
  "nbformat_minor": 0,
  "metadata": {
    "colab": {
      "name": "LECTURE 3",
      "provenance": [],
      "collapsed_sections": [
        "4FdYhTihpOSh",
        "ctMJXxf_peGm",
        "yQdKfdi8BbBA"
      ],
      "include_colab_link": true
    },
    "kernelspec": {
      "name": "python3",
      "display_name": "Python 3"
    },
    "language_info": {
      "name": "python"
    }
  },
  "cells": [
    {
      "cell_type": "markdown",
      "metadata": {
        "id": "view-in-github",
        "colab_type": "text"
      },
      "source": [
        "<a href=\"https://colab.research.google.com/github/mozzaquatro/DS/blob/main/LECTURE_3.ipynb\" target=\"_parent\"><img src=\"https://colab.research.google.com/assets/colab-badge.svg\" alt=\"Open In Colab\"/></a>"
      ]
    },
    {
      "cell_type": "markdown",
      "metadata": {
        "id": "4FdYhTihpOSh"
      },
      "source": [
        "#Python Language Basics"
      ]
    },
    {
      "cell_type": "markdown",
      "metadata": {
        "id": "QQSl-weJAfdX"
      },
      "source": [
        "- Variables\n"
      ]
    },
    {
      "cell_type": "code",
      "metadata": {
        "id": "A07MyHqmkmJ_"
      },
      "source": [
        "age = 38.8"
      ],
      "execution_count": null,
      "outputs": []
    },
    {
      "cell_type": "code",
      "metadata": {
        "id": "aO5CLfERkthp"
      },
      "source": [
        "name = 'Niccolò'"
      ],
      "execution_count": null,
      "outputs": []
    },
    {
      "cell_type": "code",
      "metadata": {
        "id": "9W8QPIlVkv42"
      },
      "source": [
        "type(name)"
      ],
      "execution_count": null,
      "outputs": []
    },
    {
      "cell_type": "markdown",
      "metadata": {
        "id": "NSmrJMN-Aj7w"
      },
      "source": [
        "- Operators\n",
        "    - Mathematical\n",
        "    - Comparison \n",
        "    - Boolean (and, or, not)"
      ]
    },
    {
      "cell_type": "code",
      "metadata": {
        "id": "MGxM2BPWlBSM"
      },
      "source": [
        "many_professors = name * 20"
      ],
      "execution_count": null,
      "outputs": []
    },
    {
      "cell_type": "code",
      "metadata": {
        "colab": {
          "base_uri": "https://localhost:8080/"
        },
        "id": "fokM2Tv1mSsq",
        "outputId": "051d4e71-3b23-4522-d68a-ca6979298788"
      },
      "source": [
        "age "
      ],
      "execution_count": null,
      "outputs": [
        {
          "output_type": "execute_result",
          "data": {
            "text/plain": [
              "38.8"
            ]
          },
          "metadata": {},
          "execution_count": 75
        }
      ]
    },
    {
      "cell_type": "code",
      "metadata": {
        "colab": {
          "base_uri": "https://localhost:8080/"
        },
        "id": "_EZdhnL7lDsc",
        "outputId": "95e9c92d-f6e8-461a-fdc3-7abc70e7c53f"
      },
      "source": [
        "print('age == 30: ', age == 30)\n",
        "age != 38.5\n",
        "age <= 8\n",
        "age < 8\n",
        "age >= 9 \n",
        "age > 9"
      ],
      "execution_count": null,
      "outputs": [
        {
          "output_type": "stream",
          "name": "stdout",
          "text": [
            "age == 30:  False\n"
          ]
        },
        {
          "output_type": "execute_result",
          "data": {
            "text/plain": [
              "True"
            ]
          },
          "metadata": {},
          "execution_count": 76
        }
      ]
    },
    {
      "cell_type": "code",
      "metadata": {
        "colab": {
          "base_uri": "https://localhost:8080/"
        },
        "id": "sYzUgTGQm7KC",
        "outputId": "23c223e2-569e-4e6b-cec0-604ffa83ac81"
      },
      "source": [
        "print('is age more than 9?', age > 9)"
      ],
      "execution_count": null,
      "outputs": [
        {
          "output_type": "stream",
          "name": "stdout",
          "text": [
            "is age more than 9? True\n"
          ]
        }
      ]
    },
    {
      "cell_type": "code",
      "metadata": {
        "colab": {
          "base_uri": "https://localhost:8080/"
        },
        "id": "GRCsJkbdn6tx",
        "outputId": "f15fb3e5-0242-4ad4-ac32-30d707e0403b"
      },
      "source": [
        "print('is age not more than 9 or less than 40?', not (age > 9 or age < 40))"
      ],
      "execution_count": null,
      "outputs": [
        {
          "output_type": "stream",
          "name": "stdout",
          "text": [
            "is age not more than 9 or less than 40? False\n"
          ]
        }
      ]
    },
    {
      "cell_type": "markdown",
      "metadata": {
        "id": "t8BXnQ2hAonn"
      },
      "source": [
        "- Types\n",
        "    - String, numerical\n",
        "    - Lists, arrays\n",
        "    - Dictionaries\n",
        "    - Tuples\n",
        "    - sets"
      ]
    },
    {
      "cell_type": "code",
      "metadata": {
        "id": "FmiT6Q6jpDlw"
      },
      "source": [
        "list_of_names = ['Nick', 'Linda', 'Luke']"
      ],
      "execution_count": null,
      "outputs": []
    },
    {
      "cell_type": "code",
      "metadata": {
        "colab": {
          "base_uri": "https://localhost:8080/",
          "height": 35
        },
        "id": "u8UIZ5g8pVqR",
        "outputId": "91c409b0-a39c-48bd-e68c-8401da9dc53a"
      },
      "source": [
        "list_of_names[0]"
      ],
      "execution_count": null,
      "outputs": [
        {
          "output_type": "execute_result",
          "data": {
            "application/vnd.google.colaboratory.intrinsic+json": {
              "type": "string"
            },
            "text/plain": [
              "'Nick'"
            ]
          },
          "metadata": {},
          "execution_count": 80
        }
      ]
    },
    {
      "cell_type": "code",
      "metadata": {
        "id": "b52riH3Ipggh"
      },
      "source": [
        "list_of_mixed_things = ['string', 90, 89.9, 'a']"
      ],
      "execution_count": null,
      "outputs": []
    },
    {
      "cell_type": "code",
      "metadata": {
        "colab": {
          "base_uri": "https://localhost:8080/",
          "height": 35
        },
        "id": "43ACABJ2pmu6",
        "outputId": "871a23f6-d457-4445-9668-702669bcf357"
      },
      "source": [
        "list_of_mixed_things[0] + list_of_mixed_things[-1]"
      ],
      "execution_count": null,
      "outputs": [
        {
          "output_type": "execute_result",
          "data": {
            "application/vnd.google.colaboratory.intrinsic+json": {
              "type": "string"
            },
            "text/plain": [
              "'stringa'"
            ]
          },
          "metadata": {},
          "execution_count": 82
        }
      ]
    },
    {
      "cell_type": "code",
      "metadata": {
        "id": "5SEAuLDkqiEl"
      },
      "source": [
        "list_of_boolean_values = [age > 3, age < 40]"
      ],
      "execution_count": null,
      "outputs": []
    },
    {
      "cell_type": "code",
      "metadata": {
        "colab": {
          "base_uri": "https://localhost:8080/"
        },
        "id": "jtmleZAxqm-n",
        "outputId": "758a4293-dee5-49a3-802b-de32c50722cc"
      },
      "source": [
        "list_of_boolean_values"
      ],
      "execution_count": null,
      "outputs": [
        {
          "output_type": "execute_result",
          "data": {
            "text/plain": [
              "[True, True]"
            ]
          },
          "metadata": {},
          "execution_count": 84
        }
      ]
    },
    {
      "cell_type": "code",
      "metadata": {
        "id": "Lq7z-M8Iq-wV"
      },
      "source": [
        "surname = 'Marastoni'"
      ],
      "execution_count": null,
      "outputs": []
    },
    {
      "cell_type": "code",
      "metadata": {
        "id": "CzA0cFrSrGXf"
      },
      "source": [
        "person_dict = {'name':name, 'surname':surname, 'age':age}"
      ],
      "execution_count": null,
      "outputs": []
    },
    {
      "cell_type": "code",
      "metadata": {
        "colab": {
          "base_uri": "https://localhost:8080/"
        },
        "id": "NWIrfsvYrfsB",
        "outputId": "bf54439f-7dbe-4712-807c-c0f23a08cef0"
      },
      "source": [
        "type(person_dict['age'])"
      ],
      "execution_count": null,
      "outputs": [
        {
          "output_type": "execute_result",
          "data": {
            "text/plain": [
              "float"
            ]
          },
          "metadata": {},
          "execution_count": 87
        }
      ]
    },
    {
      "cell_type": "code",
      "metadata": {
        "id": "KKiLkfSVr_oE"
      },
      "source": [
        "person_tuple = (name, surname, age)"
      ],
      "execution_count": null,
      "outputs": []
    },
    {
      "cell_type": "code",
      "metadata": {
        "colab": {
          "base_uri": "https://localhost:8080/"
        },
        "id": "VDQ41dgOsIIz",
        "outputId": "ea0d23a1-28a0-44dc-fcd3-8da95eb0b880"
      },
      "source": [
        "person_tuple"
      ],
      "execution_count": null,
      "outputs": [
        {
          "output_type": "execute_result",
          "data": {
            "text/plain": [
              "('Niccolò', 'Marastoni', 38.8)"
            ]
          },
          "metadata": {},
          "execution_count": 89
        }
      ]
    },
    {
      "cell_type": "code",
      "metadata": {
        "id": "0XGuxrwBsXeF"
      },
      "source": [
        "name = 'Elisa'\n",
        "surname = 'Quintarelli'\n",
        "children = 2"
      ],
      "execution_count": null,
      "outputs": []
    },
    {
      "cell_type": "code",
      "metadata": {
        "id": "nuC5zsHvs3HW"
      },
      "source": [
        "elisa_tuple = ('Elisa', 'Quintarelli', 2)"
      ],
      "execution_count": null,
      "outputs": []
    },
    {
      "cell_type": "code",
      "metadata": {
        "id": "kfoFWBNNsipQ"
      },
      "source": [
        "name, surname, children = elisa_tuple"
      ],
      "execution_count": null,
      "outputs": []
    },
    {
      "cell_type": "code",
      "metadata": {
        "colab": {
          "base_uri": "https://localhost:8080/"
        },
        "id": "skVg6Jkuw6VE",
        "outputId": "036d0816-c5c0-4d8f-827c-e03dcfce4ccc"
      },
      "source": [
        "list_of_names"
      ],
      "execution_count": null,
      "outputs": [
        {
          "output_type": "execute_result",
          "data": {
            "text/plain": [
              "['Nick', 'Linda', 'Luke']"
            ]
          },
          "metadata": {},
          "execution_count": 93
        }
      ]
    },
    {
      "cell_type": "code",
      "metadata": {
        "id": "MqxgGQYWw-iJ"
      },
      "source": [
        "list_of_duplicated_names = list_of_names * 2"
      ],
      "execution_count": null,
      "outputs": []
    },
    {
      "cell_type": "code",
      "metadata": {
        "colab": {
          "base_uri": "https://localhost:8080/"
        },
        "id": "zgFQcbrYxJ-h",
        "outputId": "c348ec43-b066-4dbc-b32d-669bd774ab3a"
      },
      "source": [
        "list_of_duplicated_names"
      ],
      "execution_count": null,
      "outputs": [
        {
          "output_type": "execute_result",
          "data": {
            "text/plain": [
              "['Nick', 'Linda', 'Luke', 'Nick', 'Linda', 'Luke']"
            ]
          },
          "metadata": {},
          "execution_count": 95
        }
      ]
    },
    {
      "cell_type": "code",
      "metadata": {
        "colab": {
          "base_uri": "https://localhost:8080/"
        },
        "id": "pI4oICPQxOBZ",
        "outputId": "adeb93fe-43ae-4c96-e22e-4d05bcdca6ed"
      },
      "source": [
        "set_of_names = set(list_of_duplicated_names)\n",
        "print(set_of_names)"
      ],
      "execution_count": null,
      "outputs": [
        {
          "output_type": "stream",
          "name": "stdout",
          "text": [
            "{'Linda', 'Luke', 'Nick'}\n"
          ]
        }
      ]
    },
    {
      "cell_type": "code",
      "metadata": {
        "id": "nf88CqHkxVoM"
      },
      "source": [
        "another_set_of_names = set(['Nick','Lisa','Robert'])"
      ],
      "execution_count": null,
      "outputs": []
    },
    {
      "cell_type": "code",
      "metadata": {
        "colab": {
          "base_uri": "https://localhost:8080/"
        },
        "id": "7lS9QPw9x6sG",
        "outputId": "36e2ab5c-5dec-4c75-e6a1-7a32b2ed93a7"
      },
      "source": [
        "set_of_names.intersection(another_set_of_names)"
      ],
      "execution_count": null,
      "outputs": [
        {
          "output_type": "execute_result",
          "data": {
            "text/plain": [
              "{'Nick'}"
            ]
          },
          "metadata": {},
          "execution_count": 98
        }
      ]
    },
    {
      "cell_type": "code",
      "metadata": {
        "colab": {
          "base_uri": "https://localhost:8080/"
        },
        "id": "TMnW0sMWxkC3",
        "outputId": "272e2f3c-1cfc-4170-dab8-aa17b19b1c7a"
      },
      "source": [
        "set_of_names.symmetric_difference(another_set_of_names)"
      ],
      "execution_count": null,
      "outputs": [
        {
          "output_type": "execute_result",
          "data": {
            "text/plain": [
              "{'Linda', 'Lisa', 'Luke', 'Robert'}"
            ]
          },
          "metadata": {},
          "execution_count": 99
        }
      ]
    },
    {
      "cell_type": "markdown",
      "metadata": {
        "id": "_wnyi5jCAw71"
      },
      "source": [
        "- Reserved keywords\n",
        "    - For, if etc.\n",
        "    - Built-in functions (sum, type, len)\n",
        "    - is, in\n"
      ]
    },
    {
      "cell_type": "code",
      "metadata": {
        "id": "cdFFOv5WzMMY"
      },
      "source": [
        "list_of_ages = [38, 67, 89, 12]"
      ],
      "execution_count": null,
      "outputs": []
    },
    {
      "cell_type": "code",
      "metadata": {
        "colab": {
          "base_uri": "https://localhost:8080/"
        },
        "id": "lvReKEaxzifb",
        "outputId": "18d9b04c-74a6-47c2-c8e0-83d12691327d"
      },
      "source": [
        "len(list_of_ages)"
      ],
      "execution_count": null,
      "outputs": [
        {
          "output_type": "execute_result",
          "data": {
            "text/plain": [
              "4"
            ]
          },
          "metadata": {},
          "execution_count": 101
        }
      ]
    },
    {
      "cell_type": "code",
      "metadata": {
        "colab": {
          "base_uri": "https://localhost:8080/"
        },
        "id": "ryAxHqk3zxrC",
        "outputId": "29980cda-9092-42a2-c81a-c97978145617"
      },
      "source": [
        "15 in list_of_ages"
      ],
      "execution_count": null,
      "outputs": [
        {
          "output_type": "execute_result",
          "data": {
            "text/plain": [
              "False"
            ]
          },
          "metadata": {},
          "execution_count": 102
        }
      ]
    },
    {
      "cell_type": "markdown",
      "metadata": {
        "id": "UWtlu2wyA1YJ"
      },
      "source": [
        "- Control flow \n",
        "    - if/else/elif\n",
        "    - for/for each\n",
        "    - range\n",
        "    - While\n",
        "        - End condition\n"
      ]
    },
    {
      "cell_type": "code",
      "metadata": {
        "colab": {
          "base_uri": "https://localhost:8080/"
        },
        "id": "TziVOf6C0S6I",
        "outputId": "67c70872-cdbb-43f6-95ce-8c791c208112"
      },
      "source": [
        "list_of_names"
      ],
      "execution_count": null,
      "outputs": [
        {
          "output_type": "execute_result",
          "data": {
            "text/plain": [
              "['Nick', 'Linda', 'Luke']"
            ]
          },
          "metadata": {},
          "execution_count": 103
        }
      ]
    },
    {
      "cell_type": "code",
      "metadata": {
        "colab": {
          "base_uri": "https://localhost:8080/"
        },
        "id": "ocqurpUR04kd",
        "outputId": "2dd78fed-93c6-4da3-ee33-0130fe3ba73c"
      },
      "source": [
        "'Nick' not in list_of_names"
      ],
      "execution_count": null,
      "outputs": [
        {
          "output_type": "execute_result",
          "data": {
            "text/plain": [
              "False"
            ]
          },
          "metadata": {},
          "execution_count": 104
        }
      ]
    },
    {
      "cell_type": "code",
      "metadata": {
        "colab": {
          "base_uri": "https://localhost:8080/"
        },
        "id": "Juw9cyJF0dQA",
        "outputId": "9a9ded5e-66ae-4ed1-c35e-6584909abdb4"
      },
      "source": [
        "nick_is_there = False\n",
        "if 'Nick' not in list_of_names:\n",
        "    nick_is_there = True\n",
        "    print(list_of_names)\n",
        "else:\n",
        "    list_of_names.append('Marta')\n",
        "    print(list_of_names)\n"
      ],
      "execution_count": null,
      "outputs": [
        {
          "output_type": "stream",
          "name": "stdout",
          "text": [
            "['Nick', 'Linda', 'Luke', 'Marta']\n"
          ]
        }
      ]
    },
    {
      "cell_type": "code",
      "metadata": {
        "id": "Z3m9xMCk0pYf"
      },
      "source": [
        "list_of_names = ['Mark'] + list_of_names"
      ],
      "execution_count": null,
      "outputs": []
    },
    {
      "cell_type": "code",
      "metadata": {
        "colab": {
          "base_uri": "https://localhost:8080/"
        },
        "id": "vuXof8Ou16pM",
        "outputId": "09bd1cf6-6bca-4ae4-8616-7786b745fa37"
      },
      "source": [
        "person_dict"
      ],
      "execution_count": null,
      "outputs": [
        {
          "output_type": "execute_result",
          "data": {
            "text/plain": [
              "{'age': 38.8, 'name': 'Niccolò', 'surname': 'Marastoni'}"
            ]
          },
          "metadata": {},
          "execution_count": 107
        }
      ]
    },
    {
      "cell_type": "code",
      "metadata": {
        "id": "FA6qPj4W2n3y"
      },
      "source": [
        "person_dict['age'] = 12"
      ],
      "execution_count": null,
      "outputs": []
    },
    {
      "cell_type": "code",
      "metadata": {
        "colab": {
          "base_uri": "https://localhost:8080/"
        },
        "id": "TfIlqv-A2CMm",
        "outputId": "a75f4294-a517-45c1-b16b-ce3bba88bc78"
      },
      "source": [
        "if person_dict['age'] < 40 and person_dict['age'] >= 30:\n",
        "    print('not too old')\n",
        "elif person_dict['age'] < 30 and person_dict['age'] > 20:\n",
        "    print('kinda young')\n",
        "else:\n",
        "    print('young')"
      ],
      "execution_count": null,
      "outputs": [
        {
          "output_type": "stream",
          "name": "stdout",
          "text": [
            "young\n"
          ]
        }
      ]
    },
    {
      "cell_type": "code",
      "metadata": {
        "colab": {
          "base_uri": "https://localhost:8080/"
        },
        "id": "BgqN-acR4Ktz",
        "outputId": "52c6fb2f-89ec-42e9-ec8d-f892ee97fc98"
      },
      "source": [
        "print(list_of_names)"
      ],
      "execution_count": null,
      "outputs": [
        {
          "output_type": "stream",
          "name": "stdout",
          "text": [
            "['Mark', 'Nick', 'Linda', 'Luke', 'Marta']\n"
          ]
        }
      ]
    },
    {
      "cell_type": "code",
      "metadata": {
        "colab": {
          "base_uri": "https://localhost:8080/"
        },
        "id": "8NwLUvES3r0q",
        "outputId": "4a87c466-cdd4-4cd0-a544-2b980c61302c"
      },
      "source": [
        "for name in list_of_names:\n",
        "    print(name)"
      ],
      "execution_count": null,
      "outputs": [
        {
          "output_type": "stream",
          "name": "stdout",
          "text": [
            "Mark\n",
            "Nick\n",
            "Linda\n",
            "Luke\n",
            "Marta\n"
          ]
        }
      ]
    },
    {
      "cell_type": "code",
      "metadata": {
        "colab": {
          "base_uri": "https://localhost:8080/"
        },
        "id": "PtJJpCkV40Av",
        "outputId": "67118439-b5a3-456f-f90d-ce241edf8f29"
      },
      "source": [
        "for name in set_of_names:\n",
        "    print(name)"
      ],
      "execution_count": null,
      "outputs": [
        {
          "output_type": "stream",
          "name": "stdout",
          "text": [
            "Linda\n",
            "Luke\n",
            "Nick\n"
          ]
        }
      ]
    },
    {
      "cell_type": "code",
      "metadata": {
        "colab": {
          "base_uri": "https://localhost:8080/"
        },
        "id": "yeCKm9z64UVs",
        "outputId": "a408dac8-0d52-4473-f617-415e947af477"
      },
      "source": [
        "for age in list_of_ages:\n",
        "    if age > 40:\n",
        "        print(age)"
      ],
      "execution_count": null,
      "outputs": [
        {
          "output_type": "stream",
          "name": "stdout",
          "text": [
            "67\n",
            "89\n"
          ]
        }
      ]
    },
    {
      "cell_type": "code",
      "metadata": {
        "colab": {
          "base_uri": "https://localhost:8080/"
        },
        "id": "APkLVdWp4XKS",
        "outputId": "711edf21-aa97-448c-d8bc-9ff1974463e4"
      },
      "source": [
        "len(list_of_ages)"
      ],
      "execution_count": null,
      "outputs": [
        {
          "output_type": "execute_result",
          "data": {
            "text/plain": [
              "4"
            ]
          },
          "metadata": {},
          "execution_count": 114
        }
      ]
    },
    {
      "cell_type": "code",
      "metadata": {
        "colab": {
          "base_uri": "https://localhost:8080/"
        },
        "id": "pZmYvt-P5GgR",
        "outputId": "dce0817f-77cc-4125-9bcc-64ec4978800c"
      },
      "source": [
        "for index in range(8):\n",
        "    print(index)"
      ],
      "execution_count": null,
      "outputs": [
        {
          "output_type": "stream",
          "name": "stdout",
          "text": [
            "0\n",
            "1\n",
            "2\n",
            "3\n",
            "4\n",
            "5\n",
            "6\n",
            "7\n"
          ]
        }
      ]
    },
    {
      "cell_type": "code",
      "metadata": {
        "colab": {
          "base_uri": "https://localhost:8080/"
        },
        "id": "e9BUgH425S9Z",
        "outputId": "c73343d2-7b52-49ec-840e-7d10e4cd67d1"
      },
      "source": [
        "for i in range(len(list_of_ages)):\n",
        "    print(i, ') ', list_of_ages[i])"
      ],
      "execution_count": null,
      "outputs": [
        {
          "output_type": "stream",
          "name": "stdout",
          "text": [
            "0 )  38\n",
            "1 )  67\n",
            "2 )  89\n",
            "3 )  12\n"
          ]
        }
      ]
    },
    {
      "cell_type": "code",
      "metadata": {
        "colab": {
          "base_uri": "https://localhost:8080/"
        },
        "id": "4p7nZzLh5iPO",
        "outputId": "de6ec322-369b-4ff9-95b6-cde6ed65a9c5"
      },
      "source": [
        "for age in list_of_ages:\n",
        "    print(age)"
      ],
      "execution_count": null,
      "outputs": [
        {
          "output_type": "stream",
          "name": "stdout",
          "text": [
            "38\n",
            "67\n",
            "89\n",
            "12\n"
          ]
        }
      ]
    },
    {
      "cell_type": "code",
      "metadata": {
        "colab": {
          "base_uri": "https://localhost:8080/"
        },
        "id": "ewbFsIn56F5o",
        "outputId": "8539351f-5e98-48af-d5b5-375014f847c9"
      },
      "source": [
        "while True:\n",
        "    print('this is never gonna end')\n",
        "    break"
      ],
      "execution_count": null,
      "outputs": [
        {
          "output_type": "stream",
          "name": "stdout",
          "text": [
            "this is never gonna end\n"
          ]
        }
      ]
    },
    {
      "cell_type": "markdown",
      "metadata": {
        "id": "mE3SsUGTA4UY"
      },
      "source": [
        "- List Comprehension\n",
        "    - Time comparison (even list)"
      ]
    },
    {
      "cell_type": "code",
      "metadata": {
        "id": "VCm-OAMmR07J"
      },
      "source": [
        "list_of_ages = list(range(20000))"
      ],
      "execution_count": null,
      "outputs": []
    },
    {
      "cell_type": "code",
      "metadata": {
        "colab": {
          "base_uri": "https://localhost:8080/"
        },
        "id": "fzmAz2OoTfAn",
        "outputId": "c3e0f99e-d3a6-471d-db7a-fd1e94f480ce"
      },
      "source": [
        "21 % 2 == 0"
      ],
      "execution_count": null,
      "outputs": [
        {
          "output_type": "execute_result",
          "data": {
            "text/plain": [
              "False"
            ]
          },
          "metadata": {},
          "execution_count": 120
        }
      ]
    },
    {
      "cell_type": "code",
      "metadata": {
        "colab": {
          "base_uri": "https://localhost:8080/"
        },
        "id": "Lo_otTSGR2MI",
        "outputId": "9be70dd2-244d-4f2f-f030-18fcb3df7fb9"
      },
      "source": [
        "%%time\n",
        "list_of_even_ages = []\n",
        "for age in list_of_ages:\n",
        "    if age % 2 == 0:\n",
        "        list_of_even_ages.append(age)"
      ],
      "execution_count": null,
      "outputs": [
        {
          "output_type": "stream",
          "name": "stdout",
          "text": [
            "CPU times: user 9.65 ms, sys: 0 ns, total: 9.65 ms\n",
            "Wall time: 10.9 ms\n"
          ]
        }
      ]
    },
    {
      "cell_type": "code",
      "metadata": {
        "colab": {
          "base_uri": "https://localhost:8080/"
        },
        "id": "sdDHmJB4SIme",
        "outputId": "ba495216-97ab-468d-954a-bd976a2e9f58"
      },
      "source": [
        "#[38, 12] <- result\n",
        "len(list_of_even_ages) "
      ],
      "execution_count": null,
      "outputs": [
        {
          "output_type": "execute_result",
          "data": {
            "text/plain": [
              "10000"
            ]
          },
          "metadata": {},
          "execution_count": 122
        }
      ]
    },
    {
      "cell_type": "code",
      "metadata": {
        "colab": {
          "base_uri": "https://localhost:8080/"
        },
        "id": "PY2cAOeyWGgx",
        "outputId": "4fe3628a-b4fd-46b1-c977-c55b59d9d1d7"
      },
      "source": [
        "%%time\n",
        "list_of_even_ages = [x for x in list_of_ages if x % 2 == 0]"
      ],
      "execution_count": null,
      "outputs": [
        {
          "output_type": "stream",
          "name": "stdout",
          "text": [
            "CPU times: user 3.26 ms, sys: 0 ns, total: 3.26 ms\n",
            "Wall time: 5.63 ms\n"
          ]
        }
      ]
    },
    {
      "cell_type": "code",
      "metadata": {
        "id": "8Y4h-uHQWcq1"
      },
      "source": [
        "for even_age in [x for x in list_of_ages if x % 2 == 0]:\n",
        "    print(even_age)"
      ],
      "execution_count": null,
      "outputs": []
    },
    {
      "cell_type": "markdown",
      "metadata": {
        "id": "yKVnzCqjq0Lx"
      },
      "source": [
        "- Comments \n",
        "    - Inline\n",
        "    - Block \n",
        "    - Functions (pydoc)\n"
      ]
    },
    {
      "cell_type": "markdown",
      "metadata": {
        "id": "9IUFirTfrw0Y"
      },
      "source": [
        "- Functions \n",
        "    - Parameters\n",
        "    - calling/returning\n",
        "    - Scope\n",
        "    - input/no input/output/no output\n",
        " \n",
        "\n"
      ]
    },
    {
      "cell_type": "code",
      "metadata": {
        "id": "7sYklVIqYq5r"
      },
      "source": [
        "list_of_numbers = list(range(45,789))"
      ],
      "execution_count": null,
      "outputs": []
    },
    {
      "cell_type": "code",
      "metadata": {
        "colab": {
          "base_uri": "https://localhost:8080/",
          "height": 167
        },
        "id": "aY8aPe88ZQpO",
        "outputId": "2866c4d7-5fdc-4c41-c95e-c123e36d68b2"
      },
      "source": [
        "list_of_even_numbers = even_numbers(list_of_numbers)"
      ],
      "execution_count": null,
      "outputs": [
        {
          "output_type": "error",
          "ename": "NameError",
          "evalue": "ignored",
          "traceback": [
            "\u001b[0;31m---------------------------------------------------------------------------\u001b[0m",
            "\u001b[0;31mNameError\u001b[0m                                 Traceback (most recent call last)",
            "\u001b[0;32m<ipython-input-126-bfd6b36d3460>\u001b[0m in \u001b[0;36m<module>\u001b[0;34m()\u001b[0m\n\u001b[0;32m----> 1\u001b[0;31m \u001b[0mlist_of_even_numbers\u001b[0m \u001b[0;34m=\u001b[0m \u001b[0meven_numbers\u001b[0m\u001b[0;34m(\u001b[0m\u001b[0mlist_of_numbers\u001b[0m\u001b[0;34m)\u001b[0m\u001b[0;34m\u001b[0m\u001b[0;34m\u001b[0m\u001b[0m\n\u001b[0m",
            "\u001b[0;31mNameError\u001b[0m: name 'even_numbers' is not defined"
          ]
        }
      ]
    },
    {
      "cell_type": "code",
      "metadata": {
        "id": "t9AUTwx-Zf_7"
      },
      "source": [
        "def even_numbers(input_list):\n",
        "    output_list = []\n",
        "    for number in input_list:\n",
        "        if number % 2 == 0:\n",
        "            output_list.append(number)\n",
        "\n",
        "    return output_list"
      ],
      "execution_count": null,
      "outputs": []
    },
    {
      "cell_type": "code",
      "metadata": {
        "id": "PShuYjdVaCHR"
      },
      "source": [
        "list_of_even_numbers = even_numbers(list_of_numbers)\n",
        "print(list_of_even_numbers[:10])"
      ],
      "execution_count": null,
      "outputs": []
    },
    {
      "cell_type": "code",
      "metadata": {
        "id": "PbtAF69Hh8BG"
      },
      "source": [
        "list_of_even_ages = even_numbers(list_of_ages)\n",
        "\n",
        "print(list_of_even_ages[:10])"
      ],
      "execution_count": null,
      "outputs": []
    },
    {
      "cell_type": "code",
      "metadata": {
        "id": "EN9y9rxogUS_"
      },
      "source": [
        "def prints_ten_zeros():\n",
        "    for i in range(10):\n",
        "        print(0)"
      ],
      "execution_count": null,
      "outputs": []
    },
    {
      "cell_type": "code",
      "metadata": {
        "id": "WFIMOhOzgc3T"
      },
      "source": [
        "prints_ten_zeros()"
      ],
      "execution_count": null,
      "outputs": []
    },
    {
      "cell_type": "code",
      "metadata": {
        "id": "uEdmQfb1av0c"
      },
      "source": [
        "list_of_even_ages = even_numbers(list_of_ages)"
      ],
      "execution_count": null,
      "outputs": []
    },
    {
      "cell_type": "code",
      "metadata": {
        "id": "3Mj8r9lba0xt"
      },
      "source": [
        "even_numbers(list_of_mixed_things)"
      ],
      "execution_count": null,
      "outputs": []
    },
    {
      "cell_type": "code",
      "metadata": {
        "id": "onYMdN-pfzNL"
      },
      "source": [
        "type(even_numbers)"
      ],
      "execution_count": null,
      "outputs": []
    },
    {
      "cell_type": "code",
      "metadata": {
        "id": "8qqCQfCti8zb"
      },
      "source": [
        "def intersection_of_lists(first_list, second_list):\n",
        "    intersection_list = []\n",
        "    counter = 0\n",
        "    for element in first_list:\n",
        "        if element in second_list:\n",
        "            counter = counter + 1\n",
        "            intersection_list.append(element)\n",
        "\n",
        "    return intersection_list, counter"
      ],
      "execution_count": null,
      "outputs": []
    },
    {
      "cell_type": "code",
      "metadata": {
        "id": "jnVtuh_cjpZJ"
      },
      "source": [
        "intersection_result = intersection_of_lists(list_of_even_ages, list_of_even_numbers)"
      ],
      "execution_count": null,
      "outputs": []
    },
    {
      "cell_type": "code",
      "metadata": {
        "id": "Ei8dfucRj49l"
      },
      "source": [
        "print('number of elements in intersection = ', intersection_result[1])"
      ],
      "execution_count": null,
      "outputs": []
    },
    {
      "cell_type": "code",
      "metadata": {
        "id": "83FjWezKlJ8q"
      },
      "source": [
        "intersection_list, counter = intersection_of_lists(list_of_even_ages, list_of_even_numbers)"
      ],
      "execution_count": null,
      "outputs": []
    },
    {
      "cell_type": "code",
      "metadata": {
        "id": "9-ASXimGlQ9A"
      },
      "source": [
        "print('number of elements in intersection = ', counter)"
      ],
      "execution_count": null,
      "outputs": []
    },
    {
      "cell_type": "markdown",
      "metadata": {
        "id": "DLq5-bNEBN7D"
      },
      "source": [
        "#Basic Exercises"
      ]
    },
    {
      "cell_type": "markdown",
      "metadata": {
        "id": "EEi2hZC2tvaK"
      },
      "source": [
        "1. Write a function that returns True if all the elements in the input list are even\n",
        "2. Write a function that returns the maximum value in a list\n",
        "2. Write a function that returns the sum of all values in the list\n",
        "2. Write a function that accepts a list of numbers as input and returns an inverted version of the list\n",
        "2. Write a function that returns the first and last elements of a list\n",
        "3. Write a function that, given a, b, c, x as inputs, calculates ax^2 + bx + c \n",
        "4. Write a function that calculates the number of days between two dates. The dates can be tuples\n",
        "5. Write a function that accepts 2 dictionaries as input and returns a single dictionary with the same data (merged)\n",
        "6. Write a function to print the content of a dictionary in order by key\n",
        "7. Write a function to find all keys in the provided dictionary that have the given value\n",
        "8. Write a function to sort a tuple by its float element"
      ]
    },
    {
      "cell_type": "code",
      "metadata": {
        "id": "Q1_GktGcbmb1"
      },
      "source": [
        "list_of_ages"
      ],
      "execution_count": null,
      "outputs": []
    },
    {
      "cell_type": "code",
      "metadata": {
        "id": "oprM86lnmIIc"
      },
      "source": [
        "#1. Write a function that returns True if all the elements in the input list are even\n",
        "def is_list_even(input_list):\n",
        "    for element in input_list:\n",
        "        if element % 2 != 0:\n",
        "            return False\n",
        "\n",
        "    return True"
      ],
      "execution_count": null,
      "outputs": []
    },
    {
      "cell_type": "code",
      "metadata": {
        "id": "dNTQfGgnnqsE"
      },
      "source": [
        "is_list_even(list_of_ages)"
      ],
      "execution_count": null,
      "outputs": []
    },
    {
      "cell_type": "code",
      "metadata": {
        "id": "rXLQ2nFSoDPi"
      },
      "source": [
        "is_list_even(list_of_even_ages)"
      ],
      "execution_count": null,
      "outputs": []
    },
    {
      "cell_type": "code",
      "metadata": {
        "id": "Fi_ZAbkto2oa"
      },
      "source": [
        "#2. Write a function that returns the maximum value in a list\n",
        "def max_value_in_list(input_list):\n",
        "    max_value = input_list[0]\n",
        "\n",
        "    for element in input_list:\n",
        "        if element > max_value:\n",
        "            max_value = element\n",
        "\n",
        "    return max_value"
      ],
      "execution_count": null,
      "outputs": []
    },
    {
      "cell_type": "code",
      "metadata": {
        "id": "wnNZRIBPq4gF"
      },
      "source": [
        "list_of_negative_numbers = [-23, -34, -2, -456]\n",
        "max_value_in_list(list_of_negative_numbers)"
      ],
      "execution_count": null,
      "outputs": []
    },
    {
      "cell_type": "code",
      "metadata": {
        "id": "6s0utZmYq8IO"
      },
      "source": [
        "list_of_ages[-1]"
      ],
      "execution_count": null,
      "outputs": []
    },
    {
      "cell_type": "code",
      "metadata": {
        "id": "6EE0ZQ_gsnib"
      },
      "source": [
        "#3. Write a function that returns the sum of all values in the list\n",
        "def sum_of_all_values_in_list(numerical_list):\n",
        "    sum_of_all_values = 0\n",
        "\n",
        "    for element in numerical_list:\n",
        "        #sum_of_all_values = sum_of_all_values + element\n",
        "        sum_of_all_values += element\n",
        "        print('element = ', element, ' sum_of_all_values = ', sum_of_all_values)\n",
        "\n",
        "    return sum_of_all_values"
      ],
      "execution_count": null,
      "outputs": []
    },
    {
      "cell_type": "code",
      "metadata": {
        "id": "G6bYPG0Tt9OO"
      },
      "source": [
        "sum_of_all_values_in_list(range(10))"
      ],
      "execution_count": null,
      "outputs": []
    },
    {
      "cell_type": "code",
      "metadata": {
        "id": "yDh9shgHuDIn"
      },
      "source": [
        "for i in range(1, -len(range(10)), -1): #backwards\n",
        "#for i in range(-1,-len(range(10)),-1):\n",
        "    print(i)"
      ],
      "execution_count": null,
      "outputs": []
    },
    {
      "cell_type": "code",
      "metadata": {
        "id": "WI9B8TdGgdEg"
      },
      "source": [
        "# 4. Write a function that accepts a list of numbers as input and returns an inverted version of the list\n",
        "list_names = ['joao','pedro','maria']\n",
        "list4 = [1,2,3,4,5,6,7,8,9,10,500]"
      ],
      "execution_count": null,
      "outputs": []
    },
    {
      "cell_type": "code",
      "metadata": {
        "id": "ToOyx-ymg1b4"
      },
      "source": [
        "def invert_list(list):\n",
        "  inverted_list = []\n",
        "  for i in range(-1,-(len(list)+1),-1):\n",
        "    #print(i,' - ',list[i])\n",
        "    inverted_list.append(list[i])\n",
        "\n",
        "  return inverted_list\n"
      ],
      "execution_count": null,
      "outputs": []
    },
    {
      "cell_type": "code",
      "metadata": {
        "id": "S7kopbeBjgI8"
      },
      "source": [
        "#ext_inv_list =[]\n",
        "invert_list(list4)\n",
        "#ext_inv_list"
      ],
      "execution_count": null,
      "outputs": []
    },
    {
      "cell_type": "code",
      "metadata": {
        "id": "xZW61fGI2yRp"
      },
      "source": [
        ""
      ],
      "execution_count": null,
      "outputs": []
    },
    {
      "cell_type": "markdown",
      "metadata": {
        "id": "yEGjLblR2k__"
      },
      "source": [
        "# 5.Write a function that returns the first and last elements of a list"
      ]
    },
    {
      "cell_type": "code",
      "metadata": {
        "id": "43nkjR-s2Goo"
      },
      "source": [
        "# 5. Write a function that returns the first and last elements of a list\n",
        "def list_first_last(list):\n",
        "  first = list[0]\n",
        "  last = list[-1]\n",
        "\n",
        "  return first,last\n",
        "\n"
      ],
      "execution_count": null,
      "outputs": []
    },
    {
      "cell_type": "code",
      "metadata": {
        "id": "JDHiQkeG4Xfx"
      },
      "source": [
        "list_names"
      ],
      "execution_count": null,
      "outputs": []
    },
    {
      "cell_type": "code",
      "metadata": {
        "id": "_OhPcb3K3yVy"
      },
      "source": [
        "%%time\n",
        "list_first_last(list_names)\n"
      ],
      "execution_count": null,
      "outputs": []
    },
    {
      "cell_type": "code",
      "metadata": {
        "id": "I7clUsoM3hFD"
      },
      "source": [
        "%%time\n",
        "list_first_last(range(54862))"
      ],
      "execution_count": null,
      "outputs": []
    },
    {
      "cell_type": "markdown",
      "metadata": {
        "id": "c-Ib1eQ02aN6"
      },
      "source": [
        ""
      ]
    },
    {
      "cell_type": "markdown",
      "metadata": {
        "id": "-1q7Jdt56KoS"
      },
      "source": [
        "# 6 Write a function that, given a, b, c, x as inputs, calculates ax^2 + bx + c "
      ]
    },
    {
      "cell_type": "code",
      "metadata": {
        "id": "qX7UKsQI6Xdz"
      },
      "source": [
        "# 6.Write a function that, given a, b, c, x as inputs, calculates ax^2 + bx + c \n"
      ],
      "execution_count": null,
      "outputs": []
    },
    {
      "cell_type": "code",
      "metadata": {
        "id": "Eo08mxiZ6lOj"
      },
      "source": [
        "\n",
        "def number6(a,b,c,x):\n",
        "  return ((a*x)**2) + (b*x) + c"
      ],
      "execution_count": null,
      "outputs": []
    },
    {
      "cell_type": "code",
      "metadata": {
        "id": "doChjFIC7jIW"
      },
      "source": [
        "%%time\n",
        "number6(2,2,4,2)"
      ],
      "execution_count": null,
      "outputs": []
    },
    {
      "cell_type": "markdown",
      "metadata": {
        "id": "t7e8AOT286Ji"
      },
      "source": [
        "# 7.Write a function that calculates the number of days between two dates. The dates can be tuples"
      ]
    },
    {
      "cell_type": "code",
      "metadata": {
        "id": "DNuP-bqTbQDR"
      },
      "source": [
        "import datetime as date"
      ],
      "execution_count": null,
      "outputs": []
    },
    {
      "cell_type": "code",
      "metadata": {
        "id": "6XpQ95_d89Dr"
      },
      "source": [
        "#7.Write a function that calculates the number of days between two dates. The dates can be tuples\n",
        "def number_of_days(year1,month1,day1,year2,month2,day2):\n",
        "  date1 = date.datetime(year1,month1,day1)\n",
        "  date2 = date.datetime(year2,month2,day2)\n",
        "  if date1 >= date2:\n",
        "    return date1-date2\n",
        "  else:\n",
        "    return date2-date1\n"
      ],
      "execution_count": null,
      "outputs": []
    },
    {
      "cell_type": "code",
      "metadata": {
        "id": "9RGFegWsYUMb"
      },
      "source": [
        "number_of_days(2052,11,12,2021,11,12)"
      ],
      "execution_count": null,
      "outputs": []
    },
    {
      "cell_type": "markdown",
      "metadata": {
        "id": "waP36YFvdH7J"
      },
      "source": [
        "# 8.Write a function that accepts 2 dictionaries as input and returns a single dictionary with the same data (merged)"
      ]
    },
    {
      "cell_type": "code",
      "metadata": {
        "id": "ELbHhdJ4dpQ9"
      },
      "source": [
        "dictionary1 = {\n",
        "                \"country\":\"Spain\",\n",
        "               \"city\":\"Leon\",\n",
        "               \"year\":\"2017\"\n",
        "}\n",
        "\n",
        "dictionary2 = {\n",
        "                \"food\":\"pizza\",\n",
        "               \"price\":\"4.67\",\n",
        "               \"drink\":\"beer\"\n",
        "}\n",
        "\n",
        "print(dictionary1)\n",
        "print(dictionary2)"
      ],
      "execution_count": null,
      "outputs": []
    },
    {
      "cell_type": "code",
      "metadata": {
        "id": "w1BVqgbndSTy"
      },
      "source": [
        "#8.Write a function that accepts 2 dictionaries as input and returns a single dictionary with the same data (merged)\n",
        "def merge_dict(dict1,dict2):\n",
        "  for key, value in dict1.items():\n",
        "    dict2[key] = value\n",
        "  return dict2\n"
      ],
      "execution_count": null,
      "outputs": []
    },
    {
      "cell_type": "code",
      "metadata": {
        "id": "jTrJ44PIkkIu"
      },
      "source": [
        "merge_dict(dictionary1,dictionary2)"
      ],
      "execution_count": null,
      "outputs": []
    },
    {
      "cell_type": "markdown",
      "metadata": {
        "id": "tgih3nwMk8lj"
      },
      "source": [
        "#9.Write a function to print the content of a dictionary in order by key"
      ]
    },
    {
      "cell_type": "code",
      "metadata": {
        "id": "aahRKtkflD7Q"
      },
      "source": [
        "# 9.Write a function to print the content of a dictionary in order by key\n",
        "dictionary9 = {\n",
        "    \"f\":\"g\",\n",
        "    \"a\":\"b\",\n",
        "    \"z\": \"y\",\n",
        "    \"b\":\"c\",\n",
        "    \"h\":\"i\"\n",
        "}"
      ],
      "execution_count": null,
      "outputs": []
    },
    {
      "cell_type": "code",
      "metadata": {
        "colab": {
          "base_uri": "https://localhost:8080/"
        },
        "id": "NVthbgYomSM2",
        "outputId": "5d1d5103-b98e-4726-cb70-cf6cf6941b94"
      },
      "source": [
        "dictionary9"
      ],
      "execution_count": null,
      "outputs": [
        {
          "output_type": "execute_result",
          "data": {
            "text/plain": [
              "{'a': 'b', 'b': 'c', 'f': 'g', 'h': 'i', 'z': 'y'}"
            ]
          },
          "metadata": {},
          "execution_count": 58
        }
      ]
    },
    {
      "cell_type": "code",
      "metadata": {
        "id": "834aCa9ImbMS"
      },
      "source": [
        "def dictionary_in_default_order(dict1):\n",
        "  #key_order = list(dict1.keys())[0]\n",
        "  for key, value in dict1.items():\n",
        "    #print(key_order)\n",
        "    print(key,' - ',value)"
      ],
      "execution_count": null,
      "outputs": []
    },
    {
      "cell_type": "code",
      "metadata": {
        "colab": {
          "base_uri": "https://localhost:8080/"
        },
        "id": "9xnUGbzZmvpE",
        "outputId": "710a0004-c0ef-49cf-d468-f6aa1dfe383d"
      },
      "source": [
        "dictionary_in_default_order(dictionary9)"
      ],
      "execution_count": null,
      "outputs": [
        {
          "output_type": "stream",
          "name": "stdout",
          "text": [
            "f  -  g\n",
            "a  -  b\n",
            "z  -  y\n",
            "b  -  c\n",
            "h  -  i\n"
          ]
        }
      ]
    },
    {
      "cell_type": "markdown",
      "metadata": {
        "id": "RQUVhgaTabbp"
      },
      "source": [
        "#10."
      ]
    },
    {
      "cell_type": "markdown",
      "metadata": {
        "id": "pwLAxpV7adEx"
      },
      "source": [
        "#10.Write a function to find all keys in the provided dictionary that have the given value"
      ]
    },
    {
      "cell_type": "code",
      "metadata": {
        "id": "eYA3NzrMamiV"
      },
      "source": [
        "#10.Write a function to find all keys in the provided dictionary that have the given value\n",
        "dictionary_names = {\n",
        "    \"Name\":\"João\",\n",
        "    \"name\":\"pedro\",\n",
        "    \"nAme\":\"PAULO\",\n",
        "    \"Nam\":\"joselito\",\n",
        "    \"idade\": \"12\",\n",
        "    \"LastName\": \"Scliar\"\n",
        "}"
      ],
      "execution_count": null,
      "outputs": []
    },
    {
      "cell_type": "code",
      "metadata": {
        "id": "ptRHJjrpapbZ"
      },
      "source": [
        "def key_search(key_name, dictionary_name):\n",
        "  filtered_dictionary = {}\n",
        "  for key, value in dictionary_name.items():\n",
        "    if key.lower() == key_name.lower():\n",
        "      filtered_dictionary[key]=value\n",
        "\n",
        "  return filtered_dictionary"
      ],
      "execution_count": null,
      "outputs": []
    },
    {
      "cell_type": "code",
      "metadata": {
        "colab": {
          "base_uri": "https://localhost:8080/"
        },
        "id": "3bBbjf5Tdd-e",
        "outputId": "9125b5e6-b181-45f8-cd12-dee1604a515f"
      },
      "source": [
        "key_search(\"name\",dictionary_names)"
      ],
      "execution_count": null,
      "outputs": [
        {
          "output_type": "execute_result",
          "data": {
            "text/plain": [
              "{'Name': 'João', 'nAme': 'PAULO', 'name': 'pedro'}"
            ]
          },
          "metadata": {},
          "execution_count": 143
        }
      ]
    },
    {
      "cell_type": "code",
      "metadata": {
        "id": "bm02BB4fe2-J"
      },
      "source": [
        "def key_search_opt(key_value, dictionary):\n",
        "  filtered_dictionary = { key: value for key, value in dictionary.items() if key.lower() == key_value.lower() }\n",
        "\n",
        "  return filtered_dictionary"
      ],
      "execution_count": null,
      "outputs": []
    },
    {
      "cell_type": "code",
      "metadata": {
        "colab": {
          "base_uri": "https://localhost:8080/"
        },
        "id": "Q3yWM6GBiGtE",
        "outputId": "b1493038-4e71-4354-d153-23dbc0844d10"
      },
      "source": [
        "key_search_opt(\"name\", dictionary_names)"
      ],
      "execution_count": null,
      "outputs": [
        {
          "output_type": "execute_result",
          "data": {
            "text/plain": [
              "{'Name': 'João', 'nAme': 'PAULO', 'name': 'pedro'}"
            ]
          },
          "metadata": {},
          "execution_count": 155
        }
      ]
    },
    {
      "cell_type": "markdown",
      "metadata": {
        "id": "hVk1_tmHkIkN"
      },
      "source": [
        "#11.Write a function to sort a tuple by its float element"
      ]
    },
    {
      "cell_type": "code",
      "metadata": {
        "colab": {
          "base_uri": "https://localhost:8080/"
        },
        "id": "B3V8ew9ekKlA",
        "outputId": "823cc3e5-e2b8-4568-d8e7-11c0a0cd2b00"
      },
      "source": [
        "# 11.Write a function to sort a tuple by its float element\n",
        "tuple_float = ((\"joao\",5.0),(\"pedro\", 5.4),(\"Luis\",3.7),(\"augusto\",8),(\"Maria\",3.0))\n",
        "print(tuple_float)\n",
        "print(type(tuple_float))"
      ],
      "execution_count": null,
      "outputs": [
        {
          "output_type": "stream",
          "name": "stdout",
          "text": [
            "(('joao', 5.0), ('pedro', 5.4), ('Luis', 3.7), ('augusto', 8), ('Maria', 3.0))\n",
            "<class 'tuple'>\n"
          ]
        }
      ]
    },
    {
      "cell_type": "code",
      "metadata": {
        "id": "-Tceven9njt7"
      },
      "source": [
        "def sort_tuple_2_elements(tuple):\n",
        "  ordered = []\n",
        "  first_float = tuple[0][1] \n",
        "  index = 0\n",
        "  for index in range(len(tuple)):\n",
        "    if first_float > tuple[index][1]:\n",
        "      first_float = tuple[index][1]\n",
        "      #print(first_float,' - ', index)\n",
        "      ordered.insert(0,tuple[index])\n",
        "    else:\n",
        "      ordered.insert(index,tuple[index])\n",
        "\n",
        "    \n",
        "  return (*ordered,)"
      ],
      "execution_count": null,
      "outputs": []
    },
    {
      "cell_type": "code",
      "metadata": {
        "colab": {
          "base_uri": "https://localhost:8080/"
        },
        "id": "oPlJZIBsrskp",
        "outputId": "0c843b17-dc18-493e-aa79-979368d637c2"
      },
      "source": [
        "sort_tuple_2_elements(tuple_float)"
      ],
      "execution_count": null,
      "outputs": [
        {
          "output_type": "execute_result",
          "data": {
            "text/plain": [
              "(('Maria', 3.0), ('Luis', 3.7), ('joao', 5.0), ('pedro', 5.4), ('augusto', 8))"
            ]
          },
          "metadata": {},
          "execution_count": 298
        }
      ]
    },
    {
      "cell_type": "markdown",
      "metadata": {
        "id": "ctMJXxf_peGm"
      },
      "source": [
        "#Python Language Advanced"
      ]
    },
    {
      "cell_type": "markdown",
      "metadata": {
        "id": "5J7XWUFzBBQP"
      },
      "source": [
        "- Objects\n",
        "    - Constructor\n",
        "    - Attributes\n",
        "    - Methods\n",
        "        - Built in -> \\_\\_repr__, \\_\\_eq__\n"
      ]
    },
    {
      "cell_type": "markdown",
      "metadata": {
        "id": "wqTqjSdyCARA"
      },
      "source": [
        "- Advanced functions\n",
        "    - lambdas\n",
        "    - map\n",
        "    - filter\n",
        "    - sorted"
      ]
    },
    {
      "cell_type": "markdown",
      "metadata": {
        "id": "ajWGyaKlBF1H"
      },
      "source": [
        "- Reading documentation\n",
        "- Exceptions \n",
        "    - Reading errors"
      ]
    },
    {
      "cell_type": "markdown",
      "metadata": {
        "id": "yVRTts6VwtuB"
      },
      "source": [
        "- Common Libraries\n",
        "    - os\n",
        "    - random\n",
        "    - copy\n",
        "    - time"
      ]
    },
    {
      "cell_type": "markdown",
      "metadata": {
        "id": "yQdKfdi8BbBA"
      },
      "source": [
        "#Advanced Exercises"
      ]
    },
    {
      "cell_type": "markdown",
      "metadata": {
        "id": "e5TW_waHBpv6"
      },
      "source": [
        "1. Write a function that orders a list in reverse alphabetical order, using Lambda\n",
        "2. Write a function to square and cube every number in a given list of integers, using Lambda\n",
        "3. Write a Triangle object that can be constructed by three points in space    \n",
        "    a. Define a method for the perimeter of the triangle    \n",
        "    b. Write an appropriate \\_\\_repr__ function   \n",
        "    c. Write an appropriate \\_\\_eq__ function so that two triangles are equal if their sides are equal\n",
        "4. Write a function to list only i) directories, ii) files and ii) all directories, files in a specified path"
      ]
    }
  ]
}